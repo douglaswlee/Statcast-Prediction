{
 "cells": [
  {
   "cell_type": "markdown",
   "metadata": {},
   "source": [
    "## Exploratory Data Analysis and Building a Binary Hit Classifier"
   ]
  },
  {
   "cell_type": "markdown",
   "metadata": {},
   "source": [
    "Now we will attempt to build a classification model to predict whether a given batted ball will be a hit or an out based on Statacast and stadium dimension features scraped in Notebooks 01 and 02, and engineered in the previous notebook. Since we are interested in prediction and some level of interpretability (to understand which features have predictive value) we'll focus on `scikit-learn`'s `LogisticRegressionClassifier`, `RandomForestClassifier` and `GradientBoostingClassifier` for now. \n",
    "\n",
    "We'll first see that our data is moderately imbalanced (fewer hits compared to outs) and that discriminating between hits and outs is much clearer through the features describing the nature of contact for a batted ball -- very crudely, how hard/far the ball is hit (`launch_speed`) , how high the ball is hit (`launch_angle`) and the general direction othe ball is hit (`spray_angle`).\n",
    "\n",
    "Since the data is moderately imbalanced, we'll use both setting the `class_weight` parameter to `'balanced'` and [SMOTE](https://imbalanced-learn.readthedocs.io/en/stable/generated/imblearn.over_sampling.SMOTE.html) to attempt to balance the data for the `LogisticRegressionClassifier` and `RandomForestClassifier`. This is not done for `GradientBoostingClassifier` which can [directly handle imbalance](https://datascience.stackexchange.com/questions/1107/quick-guide-into-training-highly-imbalanced-data-sets) in its training algorithm.\n",
    "\n",
    "We compare and select from these models using `GridSearchCV` on different hyperparamters while scoring using `roc_auc_score` as we ultimately want to predict as many hits correctly as possible without mis-classifying too many outs as hits. For the selected model, we further tune hyperparameters using `fbeta_score` with `beta = 2` to further prioritize identifying true hits correctly (higher Recall) without completely mismanaging the [Precision-Recall tradeoff](https://scikit-learn.org/stable/auto_examples/model_selection/plot_precision_recall.html) by identifying too many true outs as hits as well (\"reasonable\" Precision)."
   ]
  },
  {
   "cell_type": "code",
   "execution_count": 1,
   "metadata": {},
   "outputs": [
    {
     "name": "stderr",
     "output_type": "stream",
     "text": [
      "/anaconda3/lib/python3.6/site-packages/h5py/__init__.py:36: FutureWarning: Conversion of the second argument of issubdtype from `float` to `np.floating` is deprecated. In future, it will be treated as `np.float64 == np.dtype(float).type`.\n",
      "  from ._conv import register_converters as _register_converters\n",
      "Using TensorFlow backend.\n"
     ]
    }
   ],
   "source": [
    "import pandas as pd\n",
    "import numpy as np\n",
    "import matplotlib.pyplot as plt\n",
    "import seaborn as sns\n",
    "plt.style.use('fivethirtyeight')\n",
    "\n",
    "from copy import copy, deepcopy\n",
    "import pickle\n",
    "\n",
    "from sklearn.ensemble import RandomForestClassifier, GradientBoostingClassifier\n",
    "from sklearn.linear_model import LogisticRegression\n",
    "from sklearn.metrics import confusion_matrix, roc_auc_score, fbeta_score, roc_curve, make_scorer, precision_score, recall_score, classification_report\n",
    "from sklearn.pipeline import Pipeline\n",
    "from sklearn.preprocessing import StandardScaler\n",
    "from sklearn.model_selection import train_test_split, StratifiedKFold, GridSearchCV\n",
    "\n",
    "from imblearn.over_sampling import SMOTE\n",
    "from collections import Counter"
   ]
  },
  {
   "cell_type": "code",
   "execution_count": 2,
   "metadata": {},
   "outputs": [],
   "source": [
    "with open('statcast_full_clean.pkl', 'rb') as p:\n",
    "    data = pickle.load(p)"
   ]
  },
  {
   "cell_type": "code",
   "execution_count": 3,
   "metadata": {},
   "outputs": [
    {
     "data": {
      "text/html": [
       "<div>\n",
       "<style scoped>\n",
       "    .dataframe tbody tr th:only-of-type {\n",
       "        vertical-align: middle;\n",
       "    }\n",
       "\n",
       "    .dataframe tbody tr th {\n",
       "        vertical-align: top;\n",
       "    }\n",
       "\n",
       "    .dataframe thead th {\n",
       "        text-align: right;\n",
       "    }\n",
       "</style>\n",
       "<table border=\"1\" class=\"dataframe\">\n",
       "  <thead>\n",
       "    <tr style=\"text-align: right;\">\n",
       "      <th></th>\n",
       "      <th>game_date</th>\n",
       "      <th>game_year</th>\n",
       "      <th>home_team</th>\n",
       "      <th>away_team</th>\n",
       "      <th>def_team</th>\n",
       "      <th>at_bat_number</th>\n",
       "      <th>events</th>\n",
       "      <th>launch_angle</th>\n",
       "      <th>launch_speed</th>\n",
       "      <th>spray_angle</th>\n",
       "      <th>...</th>\n",
       "      <th>cf_ht</th>\n",
       "      <th>rf_ht</th>\n",
       "      <th>lf</th>\n",
       "      <th>lc</th>\n",
       "      <th>cf</th>\n",
       "      <th>rc</th>\n",
       "      <th>rf</th>\n",
       "      <th>hit_rate_wk</th>\n",
       "      <th>hit_rate_mo</th>\n",
       "      <th>hit</th>\n",
       "    </tr>\n",
       "  </thead>\n",
       "  <tbody>\n",
       "    <tr>\n",
       "      <th>0</th>\n",
       "      <td>2015-04-06</td>\n",
       "      <td>2015</td>\n",
       "      <td>ARI</td>\n",
       "      <td>SF</td>\n",
       "      <td>ARI</td>\n",
       "      <td>1</td>\n",
       "      <td>field_out</td>\n",
       "      <td>14.2</td>\n",
       "      <td>95.1</td>\n",
       "      <td>17.190065</td>\n",
       "      <td>...</td>\n",
       "      <td>25</td>\n",
       "      <td>8</td>\n",
       "      <td>330</td>\n",
       "      <td>376</td>\n",
       "      <td>407</td>\n",
       "      <td>376</td>\n",
       "      <td>335</td>\n",
       "      <td>0.000000</td>\n",
       "      <td>0.000000</td>\n",
       "      <td>0</td>\n",
       "    </tr>\n",
       "    <tr>\n",
       "      <th>1</th>\n",
       "      <td>2015-04-06</td>\n",
       "      <td>2015</td>\n",
       "      <td>ARI</td>\n",
       "      <td>SF</td>\n",
       "      <td>ARI</td>\n",
       "      <td>2</td>\n",
       "      <td>single</td>\n",
       "      <td>18.0</td>\n",
       "      <td>69.3</td>\n",
       "      <td>11.669137</td>\n",
       "      <td>...</td>\n",
       "      <td>25</td>\n",
       "      <td>8</td>\n",
       "      <td>330</td>\n",
       "      <td>376</td>\n",
       "      <td>407</td>\n",
       "      <td>376</td>\n",
       "      <td>335</td>\n",
       "      <td>0.000000</td>\n",
       "      <td>0.000000</td>\n",
       "      <td>1</td>\n",
       "    </tr>\n",
       "    <tr>\n",
       "      <th>2</th>\n",
       "      <td>2015-04-06</td>\n",
       "      <td>2015</td>\n",
       "      <td>ARI</td>\n",
       "      <td>SF</td>\n",
       "      <td>ARI</td>\n",
       "      <td>3</td>\n",
       "      <td>double</td>\n",
       "      <td>1.0</td>\n",
       "      <td>95.4</td>\n",
       "      <td>-33.561451</td>\n",
       "      <td>...</td>\n",
       "      <td>25</td>\n",
       "      <td>8</td>\n",
       "      <td>330</td>\n",
       "      <td>376</td>\n",
       "      <td>407</td>\n",
       "      <td>376</td>\n",
       "      <td>335</td>\n",
       "      <td>0.500000</td>\n",
       "      <td>0.500000</td>\n",
       "      <td>1</td>\n",
       "    </tr>\n",
       "    <tr>\n",
       "      <th>3</th>\n",
       "      <td>2015-04-06</td>\n",
       "      <td>2015</td>\n",
       "      <td>ARI</td>\n",
       "      <td>SF</td>\n",
       "      <td>ARI</td>\n",
       "      <td>5</td>\n",
       "      <td>field_out</td>\n",
       "      <td>32.1</td>\n",
       "      <td>102.3</td>\n",
       "      <td>-0.910465</td>\n",
       "      <td>...</td>\n",
       "      <td>25</td>\n",
       "      <td>8</td>\n",
       "      <td>330</td>\n",
       "      <td>376</td>\n",
       "      <td>407</td>\n",
       "      <td>376</td>\n",
       "      <td>335</td>\n",
       "      <td>0.666667</td>\n",
       "      <td>0.666667</td>\n",
       "      <td>0</td>\n",
       "    </tr>\n",
       "    <tr>\n",
       "      <th>4</th>\n",
       "      <td>2015-04-06</td>\n",
       "      <td>2015</td>\n",
       "      <td>ARI</td>\n",
       "      <td>SF</td>\n",
       "      <td>ARI</td>\n",
       "      <td>10</td>\n",
       "      <td>field_out</td>\n",
       "      <td>-15.7</td>\n",
       "      <td>88.5</td>\n",
       "      <td>6.054393</td>\n",
       "      <td>...</td>\n",
       "      <td>25</td>\n",
       "      <td>8</td>\n",
       "      <td>330</td>\n",
       "      <td>376</td>\n",
       "      <td>407</td>\n",
       "      <td>376</td>\n",
       "      <td>335</td>\n",
       "      <td>0.500000</td>\n",
       "      <td>0.500000</td>\n",
       "      <td>0</td>\n",
       "    </tr>\n",
       "  </tbody>\n",
       "</table>\n",
       "<p>5 rows × 23 columns</p>\n",
       "</div>"
      ],
      "text/plain": [
       "    game_date  game_year home_team away_team def_team  at_bat_number  \\\n",
       "0  2015-04-06       2015       ARI        SF      ARI              1   \n",
       "1  2015-04-06       2015       ARI        SF      ARI              2   \n",
       "2  2015-04-06       2015       ARI        SF      ARI              3   \n",
       "3  2015-04-06       2015       ARI        SF      ARI              5   \n",
       "4  2015-04-06       2015       ARI        SF      ARI             10   \n",
       "\n",
       "      events  launch_angle  launch_speed  spray_angle  ...  cf_ht  rf_ht   lf  \\\n",
       "0  field_out          14.2          95.1    17.190065  ...     25      8  330   \n",
       "1     single          18.0          69.3    11.669137  ...     25      8  330   \n",
       "2     double           1.0          95.4   -33.561451  ...     25      8  330   \n",
       "3  field_out          32.1         102.3    -0.910465  ...     25      8  330   \n",
       "4  field_out         -15.7          88.5     6.054393  ...     25      8  330   \n",
       "\n",
       "    lc   cf   rc   rf  hit_rate_wk  hit_rate_mo  hit  \n",
       "0  376  407  376  335     0.000000     0.000000    0  \n",
       "1  376  407  376  335     0.000000     0.000000    1  \n",
       "2  376  407  376  335     0.500000     0.500000    1  \n",
       "3  376  407  376  335     0.666667     0.666667    0  \n",
       "4  376  407  376  335     0.500000     0.500000    0  \n",
       "\n",
       "[5 rows x 23 columns]"
      ]
     },
     "execution_count": 3,
     "metadata": {},
     "output_type": "execute_result"
    }
   ],
   "source": [
    "data.head()"
   ]
  },
  {
   "cell_type": "code",
   "execution_count": 4,
   "metadata": {},
   "outputs": [
    {
     "name": "stdout",
     "output_type": "stream",
     "text": [
      "<class 'pandas.core.frame.DataFrame'>\n",
      "RangeIndex: 630221 entries, 0 to 630220\n",
      "Data columns (total 23 columns):\n",
      "game_date        630221 non-null object\n",
      "game_year        630221 non-null int64\n",
      "home_team        630221 non-null object\n",
      "away_team        630221 non-null object\n",
      "def_team         630221 non-null object\n",
      "at_bat_number    630221 non-null int64\n",
      "events           630221 non-null object\n",
      "launch_angle     630221 non-null float64\n",
      "launch_speed     630221 non-null float64\n",
      "spray_angle      630221 non-null float64\n",
      "fair             630221 non-null float64\n",
      "foul             630221 non-null float64\n",
      "lf_ht            630221 non-null int64\n",
      "cf_ht            630221 non-null int64\n",
      "rf_ht            630221 non-null int64\n",
      "lf               630221 non-null int64\n",
      "lc               630221 non-null int64\n",
      "cf               630221 non-null int64\n",
      "rc               630221 non-null int64\n",
      "rf               630221 non-null int64\n",
      "hit_rate_wk      630221 non-null float64\n",
      "hit_rate_mo      630221 non-null float64\n",
      "hit              630221 non-null int64\n",
      "dtypes: float64(7), int64(11), object(5)\n",
      "memory usage: 110.6+ MB\n"
     ]
    }
   ],
   "source": [
    "data.info()"
   ]
  },
  {
   "cell_type": "markdown",
   "metadata": {},
   "source": [
    "Having now loaded our full modeling DataFrame from the previous notebook, let's now split into Train and Test sets. For the former, we'll use the data from the 2015 through 2018 seasons, with the 2019 season data as the latter:"
   ]
  },
  {
   "cell_type": "code",
   "execution_count": 5,
   "metadata": {},
   "outputs": [],
   "source": [
    "data_train = data[data['game_year'] < 2019]\n",
    "data_test = data[data['game_year'] == 2019]"
   ]
  },
  {
   "cell_type": "code",
   "execution_count": 6,
   "metadata": {},
   "outputs": [
    {
     "data": {
      "image/png": "[encoded data removed]",
      "text/plain": [
       "<Figure size 432x288 with 1 Axes>"
      ]
     },
     "metadata": {},
     "output_type": "display_data"
    }
   ],
   "source": [
    "data_train['hit'].value_counts(normalize=True).plot.bar()\n",
    "plt.xticks([0, 1], ['Out', 'Hit'], rotation=0);"
   ]
  },
  {
   "cell_type": "markdown",
   "metadata": {},
   "source": [
    "In the training data, there appear to be roughly 2 outs for every hit. Let's now take a look at the overall distributions of the features, first on their own, then separating the hit and out outcomes:"
   ]
  },
  {
   "cell_type": "code",
   "execution_count": 7,
   "metadata": {},
   "outputs": [],
   "source": [
    "# keep 'hit' in X for now just for EDA purposes\n",
    "X_train = data_train.drop(columns=['game_date', 'game_year', 'home_team', 'away_team', 'def_team', 'at_bat_number', 'events'])\n",
    "X_test = data_test.drop(columns=['game_date', 'game_year', 'home_team', 'away_team', 'def_team', 'at_bat_number', 'events'])\n",
    "y_train = data_train['hit']\n",
    "y_test = data_test['hit']"
   ]
  },
  {
   "cell_type": "code",
   "execution_count": 8,
   "metadata": {},
   "outputs": [
    {
     "name": "stdout",
     "output_type": "stream",
     "text": [
      "(506346, 16)\n",
      "(123875, 16)\n"
     ]
    }
   ],
   "source": [
    "print(X_train.shape)\n",
    "print(X_test.shape)"
   ]
  },
  {
   "cell_type": "code",
   "execution_count": 9,
   "metadata": {},
   "outputs": [
    {
     "data": {
      "image/png": "[encoded data removed]",
      "text/plain": [
       "<Figure size 1152x1800 with 15 Axes>"
      ]
     },
     "metadata": {},
     "output_type": "display_data"
    }
   ],
   "source": [
    "cols = X_train.columns\n",
    "plt.figure(figsize=(16,25))\n",
    "for i in range(len(cols)-1):\n",
    "    plt.subplot(4, 4, i+1)\n",
    "    sns.distplot(X_train[cols[i]],kde=False)"
   ]
  },
  {
   "cell_type": "markdown",
   "metadata": {},
   "source": [
    "The above plots are not incredibly insightful, but we can see that there is not that much variation in stadium dimensions (particuarly in outfield dimesions and outfield wall heights, with a bit more in fair and foul territory). Of the \"contact\" features, `launch_angle` is nearly symmetrical with some additional peaks at some highly negative (just about any weak groundball?) and positive values (pop-ups?), `launch_speed` appears to mostly take on values between 70 and 100 mph, and `spray_angle` appears almost tri-modal reflecting a relative balance in batted balls that are up the middle (values around zero) or opposite field (positive), with a larger peak of pulled batted balls (negative). As one might expect, the weekly and monthly hit rates don't really take on too wide a range of values, with the monthly rates taking on a much narrower range of values.\n",
    "\n",
    "Now taking a look at each feature, separating the hit/out outcomes:"
   ]
  },
  {
   "cell_type": "code",
   "execution_count": 11,
   "metadata": {},
   "outputs": [
    {
     "data": {
      "image/png": "[encoded data removed]",
      "text/plain": [
       "<Figure size 1152x1800 with 15 Axes>"
      ]
     },
     "metadata": {},
     "output_type": "display_data"
    }
   ],
   "source": [
    "plt.figure(figsize=(16,25))\n",
    "for i in range(len(cols)-1):\n",
    "    plt.subplot(4, 4, i+1)\n",
    "    sns.distplot(X_train.groupby('hit')[cols[i]].get_group(0), kde=False, label='Out');\n",
    "    sns.distplot(X_train.groupby('hit')[cols[i]].get_group(1), kde= False, label='Hit');\n",
    "    plt.legend();"
   ]
  },
  {
   "cell_type": "markdown",
   "metadata": {},
   "source": [
    "We see that `launch_angle`, `launch_speed` and `spray_angle` are the only features whose distributions can provide clear discrimination between hits and outs. For `launch_angle` we see far more hits than outs for values between roughly 10 and 30 degrees and the reverse for other ranges. For `launch_speed`, more hits for values close to 100 mph and higher (and more outs for lower values). For `spray_angle` we see more hits relative to outs for a small range of negative values (perhaps these are batted balls pulled sharply down the line) and positive values (batted balls hit to an extreme to the opposite field). For the remaining features, there seems to be a near 2:1 ratio of outs to hits regardless of value (meaning in roughly the same proportions as the full data, so these features are likely not meaningful at all).\n",
    "\n",
    "Let's now prepare to train our candidate model."
   ]
  },
  {
   "cell_type": "code",
   "execution_count": 12,
   "metadata": {},
   "outputs": [],
   "source": [
    "X_train = X_train.drop(columns='hit')\n",
    "X_test = X_test.drop(columns='hit')"
   ]
  },
  {
   "cell_type": "code",
   "execution_count": 13,
   "metadata": {},
   "outputs": [],
   "source": [
    "skf = StratifiedKFold(n_splits=5, random_state=42, shuffle=True)"
   ]
  },
  {
   "cell_type": "code",
   "execution_count": 14,
   "metadata": {},
   "outputs": [],
   "source": [
    "models = {\n",
    "    'LogisticRegression': Pipeline(steps=[('sc', StandardScaler()), ('logistic', LogisticRegression(class_weight='balanced', random_state=42, solver='saga'))]),\n",
    "    'LogisticRegression_SMOTE': Pipeline(steps=[('sc', StandardScaler()), ('logistic', LogisticRegression(random_state=42, solver='saga'))]),\n",
    "    'RandomForest': RandomForestClassifier(class_weight='balanced', random_state=42, n_jobs=-1),\n",
    "    'RandomForest_SMOTE': RandomForestClassifier(random_state=42, n_jobs=-1),\n",
    "    'GradientBoosting_ES': GradientBoostingClassifier(max_features=15, max_depth=10, random_state=42, n_iter_no_change=5, tol=.01)\n",
    "}"
   ]
  },
  {
   "cell_type": "markdown",
   "metadata": {},
   "source": [
    "For most of the models we'll be using `scikit-learn`'s defaults, aside from the instances of `LogisticRegressionClassifier` and `RandomForestClassifier` where we set `class_weight='balanced'` and `GradientBoostingClassifier` where we employ a version of [early stopping](https://scikit-learn.org/stable/auto_examples/ensemble/plot_gradient_boosting_early_stopping.html#sphx-glr-auto-examples-ensemble-plot-gradient-boosting-early-stopping-py). We use the `saga` solver for `LogisticRegressionClassifier` to handle both `l1` and `l2` penalties, and also specify a `Pipeline` employing `StandardScaler` to standardize our features. For `GradientBoostingClassifier` we specify `max_features` equal to the total number of features we have and a basically arbitrary reasonable value for `max_depth`.\n",
    "\n",
    "Below are the hyperparameter grids we will employ for `GridSearchCV` for each candidate model (note that we have also specified `max_features` equal to the total number of features for `RandomForestClassifier`."
   ]
  },
  {
   "cell_type": "code",
   "execution_count": 15,
   "metadata": {},
   "outputs": [],
   "source": [
    "param_grids = {\n",
    "    'LogisticRegression': {\n",
    "        'logistic__penalty': ['l1', 'l2'],\n",
    "        'logistic__C': np.logspace(-3, 3, 7)\n",
    "    },\n",
    "    'RandomForest': {\n",
    "        'max_features': [15],\n",
    "        'max_depth': np.arange(2, 11, 1)\n",
    "    },\n",
    "    'GradientBoosting': {\n",
    "        'n_estimators': [50, 100, 200],\n",
    "        'learning_rate': [.01, .1, .5, 1]\n",
    "    }\n",
    "}"
   ]
  },
  {
   "cell_type": "markdown",
   "metadata": {},
   "source": [
    "The code block below will train the candidate models, applying `SMOTE` when needed, collecting the following results from `GridSearchCV` for each:\n",
    "\n",
    "* `Best_Params`, the highest-scoring set of hyperparameters,\n",
    "* `Best_Estimator`, the highest-scoring estimator object,\n",
    "* `Train` and `Test`, the highest-scoring estimator's mean train and test scores from 5-fold stratified cross-validation,\n",
    "* `Feature_Imp`, the coefficients/feature importances of the highest-scoring estimator,\n",
    "* `FPR` and `TPR`, the highest-scoring estimator's false and true positive rates when applying `roc_curve` to the estimator's positive class (hit) predictions (predicted probabilities) on the test data"
   ]
  },
  {
   "cell_type": "code",
   "execution_count": 16,
   "metadata": {},
   "outputs": [
    {
     "name": "stdout",
     "output_type": "stream",
     "text": [
      "Fitting 5 folds for each of 14 candidates, totalling 70 fits\n",
      "[CV] logistic__C=0.001, logistic__penalty=l1 .........................\n"
     ]
    },
    {
     "name": "stderr",
     "output_type": "stream",
     "text": [
      "[Parallel(n_jobs=1)]: Using backend SequentialBackend with 1 concurrent workers.\n"
     ]
    },
    {
     "name": "stdout",
     "output_type": "stream",
     "text": [
      "[CV] .......... logistic__C=0.001, logistic__penalty=l1, total=   3.5s\n",
      "[CV] logistic__C=0.001, logistic__penalty=l1 .........................\n"
     ]
    },
    {
     "name": "stderr",
     "output_type": "stream",
     "text": [
      "[Parallel(n_jobs=1)]: Done   1 out of   1 | elapsed:    3.8s remaining:    0.0s\n"
     ]
    },
    {
     "name": "stdout",
     "output_type": "stream",
     "text": [
      "[CV] .......... logistic__C=0.001, logistic__penalty=l1, total=   3.8s\n",
      "[CV] logistic__C=0.001, logistic__penalty=l1 .........................\n",
      "[CV] .......... logistic__C=0.001, logistic__penalty=l1, total=   3.6s\n",
      "[CV] logistic__C=0.001, logistic__penalty=l1 .........................\n",
      "[CV] .......... logistic__C=0.001, logistic__penalty=l1, total=   3.9s\n",
      "[CV] logistic__C=0.001, logistic__penalty=l1 .........................\n",
      "[CV] .......... logistic__C=0.001, logistic__penalty=l1, total=   4.4s\n",
      "[CV] logistic__C=0.001, logistic__penalty=l2 .........................\n",
      "[CV] .......... logistic__C=0.001, logistic__penalty=l2, total=   3.6s\n",
      "[CV] logistic__C=0.001, logistic__penalty=l2 .........................\n",
      "[CV] .......... logistic__C=0.001, logistic__penalty=l2, total=   3.8s\n",
      "[CV] logistic__C=0.001, logistic__penalty=l2 .........................\n",
      "[CV] .......... logistic__C=0.001, logistic__penalty=l2, total=   4.1s\n",
      "[CV] logistic__C=0.001, logistic__penalty=l2 .........................\n",
      "[CV] .......... logistic__C=0.001, logistic__penalty=l2, total=   3.7s\n",
      "[CV] logistic__C=0.001, logistic__penalty=l2 .........................\n",
      "[CV] .......... logistic__C=0.001, logistic__penalty=l2, total=   3.6s\n",
      "[CV] logistic__C=0.01, logistic__penalty=l1 ..........................\n",
      "[CV] ........... logistic__C=0.01, logistic__penalty=l1, total=   3.4s\n",
      "[CV] logistic__C=0.01, logistic__penalty=l1 ..........................\n",
      "[CV] ........... logistic__C=0.01, logistic__penalty=l1, total=   4.3s\n",
      "[CV] logistic__C=0.01, logistic__penalty=l1 ..........................\n",
      "[CV] ........... logistic__C=0.01, logistic__penalty=l1, total=   3.8s\n",
      "[CV] logistic__C=0.01, logistic__penalty=l1 ..........................\n",
      "[CV] ........... logistic__C=0.01, logistic__penalty=l1, total=   4.1s\n",
      "[CV] logistic__C=0.01, logistic__penalty=l1 ..........................\n",
      "[CV] ........... logistic__C=0.01, logistic__penalty=l1, total=   4.2s\n",
      "[CV] logistic__C=0.01, logistic__penalty=l2 ..........................\n",
      "[CV] ........... logistic__C=0.01, logistic__penalty=l2, total=   4.3s\n",
      "[CV] logistic__C=0.01, logistic__penalty=l2 ..........................\n",
      "[CV] ........... logistic__C=0.01, logistic__penalty=l2, total=   4.4s\n",
      "[CV] logistic__C=0.01, logistic__penalty=l2 ..........................\n",
      "[CV] ........... logistic__C=0.01, logistic__penalty=l2, total=   4.1s\n",
      "[CV] logistic__C=0.01, logistic__penalty=l2 ..........................\n",
      "[CV] ........... logistic__C=0.01, logistic__penalty=l2, total=   3.6s\n",
      "[CV] logistic__C=0.01, logistic__penalty=l2 ..........................\n",
      "[CV] ........... logistic__C=0.01, logistic__penalty=l2, total=   3.5s\n",
      "[CV] logistic__C=0.1, logistic__penalty=l1 ...........................\n",
      "[CV] ............ logistic__C=0.1, logistic__penalty=l1, total=   3.4s\n",
      "[CV] logistic__C=0.1, logistic__penalty=l1 ...........................\n",
      "[CV] ............ logistic__C=0.1, logistic__penalty=l1, total=   3.7s\n",
      "[CV] logistic__C=0.1, logistic__penalty=l1 ...........................\n",
      "[CV] ............ logistic__C=0.1, logistic__penalty=l1, total=   3.9s\n",
      "[CV] logistic__C=0.1, logistic__penalty=l1 ...........................\n",
      "[CV] ............ logistic__C=0.1, logistic__penalty=l1, total=   4.2s\n",
      "[CV] logistic__C=0.1, logistic__penalty=l1 ...........................\n",
      "[CV] ............ logistic__C=0.1, logistic__penalty=l1, total=   4.5s\n",
      "[CV] logistic__C=0.1, logistic__penalty=l2 ...........................\n",
      "[CV] ............ logistic__C=0.1, logistic__penalty=l2, total=   3.5s\n",
      "[CV] logistic__C=0.1, logistic__penalty=l2 ...........................\n",
      "[CV] ............ logistic__C=0.1, logistic__penalty=l2, total=   3.9s\n",
      "[CV] logistic__C=0.1, logistic__penalty=l2 ...........................\n",
      "[CV] ............ logistic__C=0.1, logistic__penalty=l2, total=   3.6s\n",
      "[CV] logistic__C=0.1, logistic__penalty=l2 ...........................\n",
      "[CV] ............ logistic__C=0.1, logistic__penalty=l2, total=   3.6s\n",
      "[CV] logistic__C=0.1, logistic__penalty=l2 ...........................\n",
      "[CV] ............ logistic__C=0.1, logistic__penalty=l2, total=   3.8s\n",
      "[CV] logistic__C=1.0, logistic__penalty=l1 ...........................\n",
      "[CV] ............ logistic__C=1.0, logistic__penalty=l1, total=   3.8s\n",
      "[CV] logistic__C=1.0, logistic__penalty=l1 ...........................\n",
      "[CV] ............ logistic__C=1.0, logistic__penalty=l1, total=   4.1s\n",
      "[CV] logistic__C=1.0, logistic__penalty=l1 ...........................\n",
      "[CV] ............ logistic__C=1.0, logistic__penalty=l1, total=   4.0s\n",
      "[CV] logistic__C=1.0, logistic__penalty=l1 ...........................\n",
      "[CV] ............ logistic__C=1.0, logistic__penalty=l1, total=   3.8s\n",
      "[CV] logistic__C=1.0, logistic__penalty=l1 ...........................\n",
      "[CV] ............ logistic__C=1.0, logistic__penalty=l1, total=   4.1s\n",
      "[CV] logistic__C=1.0, logistic__penalty=l2 ...........................\n",
      "[CV] ............ logistic__C=1.0, logistic__penalty=l2, total=   3.6s\n",
      "[CV] logistic__C=1.0, logistic__penalty=l2 ...........................\n",
      "[CV] ............ logistic__C=1.0, logistic__penalty=l2, total=   4.0s\n",
      "[CV] logistic__C=1.0, logistic__penalty=l2 ...........................\n",
      "[CV] ............ logistic__C=1.0, logistic__penalty=l2, total=   4.1s\n",
      "[CV] logistic__C=1.0, logistic__penalty=l2 ...........................\n",
      "[CV] ............ logistic__C=1.0, logistic__penalty=l2, total=   3.9s\n",
      "[CV] logistic__C=1.0, logistic__penalty=l2 ...........................\n",
      "[CV] ............ logistic__C=1.0, logistic__penalty=l2, total=   3.6s\n",
      "[CV] logistic__C=10.0, logistic__penalty=l1 ..........................\n",
      "[CV] ........... logistic__C=10.0, logistic__penalty=l1, total=   3.4s\n",
      "[CV] logistic__C=10.0, logistic__penalty=l1 ..........................\n",
      "[CV] ........... logistic__C=10.0, logistic__penalty=l1, total=   3.8s\n",
      "[CV] logistic__C=10.0, logistic__penalty=l1 ..........................\n",
      "[CV] ........... logistic__C=10.0, logistic__penalty=l1, total=   4.5s\n",
      "[CV] logistic__C=10.0, logistic__penalty=l1 ..........................\n",
      "[CV] ........... logistic__C=10.0, logistic__penalty=l1, total=   4.0s\n",
      "[CV] logistic__C=10.0, logistic__penalty=l1 ..........................\n",
      "[CV] ........... logistic__C=10.0, logistic__penalty=l1, total=   4.3s\n",
      "[CV] logistic__C=10.0, logistic__penalty=l2 ..........................\n",
      "[CV] ........... logistic__C=10.0, logistic__penalty=l2, total=   3.7s\n",
      "[CV] logistic__C=10.0, logistic__penalty=l2 ..........................\n",
      "[CV] ........... logistic__C=10.0, logistic__penalty=l2, total=   4.2s\n",
      "[CV] logistic__C=10.0, logistic__penalty=l2 ..........................\n",
      "[CV] ........... logistic__C=10.0, logistic__penalty=l2, total=   3.9s\n",
      "[CV] logistic__C=10.0, logistic__penalty=l2 ..........................\n",
      "[CV] ........... logistic__C=10.0, logistic__penalty=l2, total=   3.8s\n",
      "[CV] logistic__C=10.0, logistic__penalty=l2 ..........................\n",
      "[CV] ........... logistic__C=10.0, logistic__penalty=l2, total=   4.4s\n",
      "[CV] logistic__C=100.0, logistic__penalty=l1 .........................\n",
      "[CV] .......... logistic__C=100.0, logistic__penalty=l1, total=   3.7s\n",
      "[CV] logistic__C=100.0, logistic__penalty=l1 .........................\n",
      "[CV] .......... logistic__C=100.0, logistic__penalty=l1, total=   4.0s\n",
      "[CV] logistic__C=100.0, logistic__penalty=l1 .........................\n",
      "[CV] .......... logistic__C=100.0, logistic__penalty=l1, total=   4.2s\n",
      "[CV] logistic__C=100.0, logistic__penalty=l1 .........................\n",
      "[CV] .......... logistic__C=100.0, logistic__penalty=l1, total=   4.1s\n",
      "[CV] logistic__C=100.0, logistic__penalty=l1 .........................\n",
      "[CV] .......... logistic__C=100.0, logistic__penalty=l1, total=   3.9s\n",
      "[CV] logistic__C=100.0, logistic__penalty=l2 .........................\n",
      "[CV] .......... logistic__C=100.0, logistic__penalty=l2, total=   3.5s\n",
      "[CV] logistic__C=100.0, logistic__penalty=l2 .........................\n",
      "[CV] .......... logistic__C=100.0, logistic__penalty=l2, total=   4.2s\n",
      "[CV] logistic__C=100.0, logistic__penalty=l2 .........................\n",
      "[CV] .......... logistic__C=100.0, logistic__penalty=l2, total=   3.8s\n",
      "[CV] logistic__C=100.0, logistic__penalty=l2 .........................\n",
      "[CV] .......... logistic__C=100.0, logistic__penalty=l2, total=   3.0s\n",
      "[CV] logistic__C=100.0, logistic__penalty=l2 .........................\n"
     ]
    },
    {
     "name": "stdout",
     "output_type": "stream",
     "text": [
      "[CV] .......... logistic__C=100.0, logistic__penalty=l2, total=   3.5s\n",
      "[CV] logistic__C=1000.0, logistic__penalty=l1 ........................\n",
      "[CV] ......... logistic__C=1000.0, logistic__penalty=l1, total=   3.4s\n",
      "[CV] logistic__C=1000.0, logistic__penalty=l1 ........................\n",
      "[CV] ......... logistic__C=1000.0, logistic__penalty=l1, total=   3.4s\n",
      "[CV] logistic__C=1000.0, logistic__penalty=l1 ........................\n",
      "[CV] ......... logistic__C=1000.0, logistic__penalty=l1, total=   3.9s\n",
      "[CV] logistic__C=1000.0, logistic__penalty=l1 ........................\n",
      "[CV] ......... logistic__C=1000.0, logistic__penalty=l1, total=   3.7s\n",
      "[CV] logistic__C=1000.0, logistic__penalty=l1 ........................\n",
      "[CV] ......... logistic__C=1000.0, logistic__penalty=l1, total=   3.7s\n",
      "[CV] logistic__C=1000.0, logistic__penalty=l2 ........................\n",
      "[CV] ......... logistic__C=1000.0, logistic__penalty=l2, total=   3.3s\n",
      "[CV] logistic__C=1000.0, logistic__penalty=l2 ........................\n",
      "[CV] ......... logistic__C=1000.0, logistic__penalty=l2, total=   3.7s\n",
      "[CV] logistic__C=1000.0, logistic__penalty=l2 ........................\n",
      "[CV] ......... logistic__C=1000.0, logistic__penalty=l2, total=   3.8s\n",
      "[CV] logistic__C=1000.0, logistic__penalty=l2 ........................\n",
      "[CV] ......... logistic__C=1000.0, logistic__penalty=l2, total=   3.5s\n",
      "[CV] logistic__C=1000.0, logistic__penalty=l2 ........................\n",
      "[CV] ......... logistic__C=1000.0, logistic__penalty=l2, total=   3.5s\n"
     ]
    },
    {
     "name": "stderr",
     "output_type": "stream",
     "text": [
      "[Parallel(n_jobs=1)]: Done  70 out of  70 | elapsed:  4.8min finished\n"
     ]
    },
    {
     "name": "stdout",
     "output_type": "stream",
     "text": [
      "Fitting 5 folds for each of 14 candidates, totalling 70 fits\n",
      "[CV] logistic__C=0.001, logistic__penalty=l1 .........................\n"
     ]
    },
    {
     "name": "stderr",
     "output_type": "stream",
     "text": [
      "[Parallel(n_jobs=1)]: Using backend SequentialBackend with 1 concurrent workers.\n"
     ]
    },
    {
     "name": "stdout",
     "output_type": "stream",
     "text": [
      "[CV] .......... logistic__C=0.001, logistic__penalty=l1, total=   5.2s\n",
      "[CV] logistic__C=0.001, logistic__penalty=l1 .........................\n"
     ]
    },
    {
     "name": "stderr",
     "output_type": "stream",
     "text": [
      "[Parallel(n_jobs=1)]: Done   1 out of   1 | elapsed:    5.6s remaining:    0.0s\n"
     ]
    },
    {
     "name": "stdout",
     "output_type": "stream",
     "text": [
      "[CV] .......... logistic__C=0.001, logistic__penalty=l1, total=   5.2s\n",
      "[CV] logistic__C=0.001, logistic__penalty=l1 .........................\n",
      "[CV] .......... logistic__C=0.001, logistic__penalty=l1, total=   6.3s\n",
      "[CV] logistic__C=0.001, logistic__penalty=l1 .........................\n",
      "[CV] .......... logistic__C=0.001, logistic__penalty=l1, total=   5.9s\n",
      "[CV] logistic__C=0.001, logistic__penalty=l1 .........................\n",
      "[CV] .......... logistic__C=0.001, logistic__penalty=l1, total=   6.1s\n",
      "[CV] logistic__C=0.001, logistic__penalty=l2 .........................\n",
      "[CV] .......... logistic__C=0.001, logistic__penalty=l2, total=   5.7s\n",
      "[CV] logistic__C=0.001, logistic__penalty=l2 .........................\n",
      "[CV] .......... logistic__C=0.001, logistic__penalty=l2, total=   5.2s\n",
      "[CV] logistic__C=0.001, logistic__penalty=l2 .........................\n",
      "[CV] .......... logistic__C=0.001, logistic__penalty=l2, total=   5.6s\n",
      "[CV] logistic__C=0.001, logistic__penalty=l2 .........................\n",
      "[CV] .......... logistic__C=0.001, logistic__penalty=l2, total=   5.5s\n",
      "[CV] logistic__C=0.001, logistic__penalty=l2 .........................\n",
      "[CV] .......... logistic__C=0.001, logistic__penalty=l2, total=   5.7s\n",
      "[CV] logistic__C=0.01, logistic__penalty=l1 ..........................\n",
      "[CV] ........... logistic__C=0.01, logistic__penalty=l1, total=   5.1s\n",
      "[CV] logistic__C=0.01, logistic__penalty=l1 ..........................\n",
      "[CV] ........... logistic__C=0.01, logistic__penalty=l1, total=   5.0s\n",
      "[CV] logistic__C=0.01, logistic__penalty=l1 ..........................\n",
      "[CV] ........... logistic__C=0.01, logistic__penalty=l1, total=   5.6s\n",
      "[CV] logistic__C=0.01, logistic__penalty=l1 ..........................\n",
      "[CV] ........... logistic__C=0.01, logistic__penalty=l1, total=   5.6s\n",
      "[CV] logistic__C=0.01, logistic__penalty=l1 ..........................\n",
      "[CV] ........... logistic__C=0.01, logistic__penalty=l1, total=   5.6s\n",
      "[CV] logistic__C=0.01, logistic__penalty=l2 ..........................\n",
      "[CV] ........... logistic__C=0.01, logistic__penalty=l2, total=   5.2s\n",
      "[CV] logistic__C=0.01, logistic__penalty=l2 ..........................\n",
      "[CV] ........... logistic__C=0.01, logistic__penalty=l2, total=   4.8s\n",
      "[CV] logistic__C=0.01, logistic__penalty=l2 ..........................\n",
      "[CV] ........... logistic__C=0.01, logistic__penalty=l2, total=   5.5s\n",
      "[CV] logistic__C=0.01, logistic__penalty=l2 ..........................\n",
      "[CV] ........... logistic__C=0.01, logistic__penalty=l2, total=   5.5s\n",
      "[CV] logistic__C=0.01, logistic__penalty=l2 ..........................\n",
      "[CV] ........... logistic__C=0.01, logistic__penalty=l2, total=   5.5s\n",
      "[CV] logistic__C=0.1, logistic__penalty=l1 ...........................\n",
      "[CV] ............ logistic__C=0.1, logistic__penalty=l1, total=   5.2s\n",
      "[CV] logistic__C=0.1, logistic__penalty=l1 ...........................\n",
      "[CV] ............ logistic__C=0.1, logistic__penalty=l1, total=   4.9s\n",
      "[CV] logistic__C=0.1, logistic__penalty=l1 ...........................\n",
      "[CV] ............ logistic__C=0.1, logistic__penalty=l1, total=   5.6s\n",
      "[CV] logistic__C=0.1, logistic__penalty=l1 ...........................\n",
      "[CV] ............ logistic__C=0.1, logistic__penalty=l1, total=   5.6s\n",
      "[CV] logistic__C=0.1, logistic__penalty=l1 ...........................\n",
      "[CV] ............ logistic__C=0.1, logistic__penalty=l1, total=   5.6s\n",
      "[CV] logistic__C=0.1, logistic__penalty=l2 ...........................\n",
      "[CV] ............ logistic__C=0.1, logistic__penalty=l2, total=   5.2s\n",
      "[CV] logistic__C=0.1, logistic__penalty=l2 ...........................\n",
      "[CV] ............ logistic__C=0.1, logistic__penalty=l2, total=   4.8s\n",
      "[CV] logistic__C=0.1, logistic__penalty=l2 ...........................\n",
      "[CV] ............ logistic__C=0.1, logistic__penalty=l2, total=   5.5s\n",
      "[CV] logistic__C=0.1, logistic__penalty=l2 ...........................\n",
      "[CV] ............ logistic__C=0.1, logistic__penalty=l2, total=   5.3s\n",
      "[CV] logistic__C=0.1, logistic__penalty=l2 ...........................\n",
      "[CV] ............ logistic__C=0.1, logistic__penalty=l2, total=   5.5s\n",
      "[CV] logistic__C=1.0, logistic__penalty=l1 ...........................\n",
      "[CV] ............ logistic__C=1.0, logistic__penalty=l1, total=   5.3s\n",
      "[CV] logistic__C=1.0, logistic__penalty=l1 ...........................\n",
      "[CV] ............ logistic__C=1.0, logistic__penalty=l1, total=   4.9s\n",
      "[CV] logistic__C=1.0, logistic__penalty=l1 ...........................\n",
      "[CV] ............ logistic__C=1.0, logistic__penalty=l1, total=   5.6s\n",
      "[CV] logistic__C=1.0, logistic__penalty=l1 ...........................\n",
      "[CV] ............ logistic__C=1.0, logistic__penalty=l1, total=   5.6s\n",
      "[CV] logistic__C=1.0, logistic__penalty=l1 ...........................\n",
      "[CV] ............ logistic__C=1.0, logistic__penalty=l1, total=   6.2s\n",
      "[CV] logistic__C=1.0, logistic__penalty=l2 ...........................\n",
      "[CV] ............ logistic__C=1.0, logistic__penalty=l2, total=   5.9s\n",
      "[CV] logistic__C=1.0, logistic__penalty=l2 ...........................\n",
      "[CV] ............ logistic__C=1.0, logistic__penalty=l2, total=   5.2s\n",
      "[CV] logistic__C=1.0, logistic__penalty=l2 ...........................\n",
      "[CV] ............ logistic__C=1.0, logistic__penalty=l2, total=   5.7s\n",
      "[CV] logistic__C=1.0, logistic__penalty=l2 ...........................\n",
      "[CV] ............ logistic__C=1.0, logistic__penalty=l2, total=   6.1s\n",
      "[CV] logistic__C=1.0, logistic__penalty=l2 ...........................\n",
      "[CV] ............ logistic__C=1.0, logistic__penalty=l2, total=   5.9s\n",
      "[CV] logistic__C=10.0, logistic__penalty=l1 ..........................\n",
      "[CV] ........... logistic__C=10.0, logistic__penalty=l1, total=   5.8s\n",
      "[CV] logistic__C=10.0, logistic__penalty=l1 ..........................\n",
      "[CV] ........... logistic__C=10.0, logistic__penalty=l1, total=   5.4s\n",
      "[CV] logistic__C=10.0, logistic__penalty=l1 ..........................\n",
      "[CV] ........... logistic__C=10.0, logistic__penalty=l1, total=   6.2s\n",
      "[CV] logistic__C=10.0, logistic__penalty=l1 ..........................\n",
      "[CV] ........... logistic__C=10.0, logistic__penalty=l1, total=   5.6s\n",
      "[CV] logistic__C=10.0, logistic__penalty=l1 ..........................\n",
      "[CV] ........... logistic__C=10.0, logistic__penalty=l1, total=   6.2s\n",
      "[CV] logistic__C=10.0, logistic__penalty=l2 ..........................\n",
      "[CV] ........... logistic__C=10.0, logistic__penalty=l2, total=   5.7s\n",
      "[CV] logistic__C=10.0, logistic__penalty=l2 ..........................\n",
      "[CV] ........... logistic__C=10.0, logistic__penalty=l2, total=   5.4s\n",
      "[CV] logistic__C=10.0, logistic__penalty=l2 ..........................\n",
      "[CV] ........... logistic__C=10.0, logistic__penalty=l2, total=   6.1s\n",
      "[CV] logistic__C=10.0, logistic__penalty=l2 ..........................\n",
      "[CV] ........... logistic__C=10.0, logistic__penalty=l2, total=   5.5s\n",
      "[CV] logistic__C=10.0, logistic__penalty=l2 ..........................\n",
      "[CV] ........... logistic__C=10.0, logistic__penalty=l2, total=   5.5s\n",
      "[CV] logistic__C=100.0, logistic__penalty=l1 .........................\n",
      "[CV] .......... logistic__C=100.0, logistic__penalty=l1, total=   5.5s\n",
      "[CV] logistic__C=100.0, logistic__penalty=l1 .........................\n",
      "[CV] .......... logistic__C=100.0, logistic__penalty=l1, total=   5.7s\n",
      "[CV] logistic__C=100.0, logistic__penalty=l1 .........................\n",
      "[CV] .......... logistic__C=100.0, logistic__penalty=l1, total=   6.2s\n",
      "[CV] logistic__C=100.0, logistic__penalty=l1 .........................\n",
      "[CV] .......... logistic__C=100.0, logistic__penalty=l1, total=   6.1s\n",
      "[CV] logistic__C=100.0, logistic__penalty=l1 .........................\n",
      "[CV] .......... logistic__C=100.0, logistic__penalty=l1, total=   6.0s\n",
      "[CV] logistic__C=100.0, logistic__penalty=l2 .........................\n",
      "[CV] .......... logistic__C=100.0, logistic__penalty=l2, total=   5.4s\n",
      "[CV] logistic__C=100.0, logistic__penalty=l2 .........................\n",
      "[CV] .......... logistic__C=100.0, logistic__penalty=l2, total=   5.2s\n",
      "[CV] logistic__C=100.0, logistic__penalty=l2 .........................\n",
      "[CV] .......... logistic__C=100.0, logistic__penalty=l2, total=   6.0s\n",
      "[CV] logistic__C=100.0, logistic__penalty=l2 .........................\n",
      "[CV] .......... logistic__C=100.0, logistic__penalty=l2, total=   5.9s\n",
      "[CV] logistic__C=100.0, logistic__penalty=l2 .........................\n"
     ]
    },
    {
     "name": "stdout",
     "output_type": "stream",
     "text": [
      "[CV] .......... logistic__C=100.0, logistic__penalty=l2, total=   5.7s\n",
      "[CV] logistic__C=1000.0, logistic__penalty=l1 ........................\n",
      "[CV] ......... logistic__C=1000.0, logistic__penalty=l1, total=   6.0s\n",
      "[CV] logistic__C=1000.0, logistic__penalty=l1 ........................\n",
      "[CV] ......... logistic__C=1000.0, logistic__penalty=l1, total=   5.9s\n",
      "[CV] logistic__C=1000.0, logistic__penalty=l1 ........................\n",
      "[CV] ......... logistic__C=1000.0, logistic__penalty=l1, total=   6.5s\n",
      "[CV] logistic__C=1000.0, logistic__penalty=l1 ........................\n",
      "[CV] ......... logistic__C=1000.0, logistic__penalty=l1, total=   6.3s\n",
      "[CV] logistic__C=1000.0, logistic__penalty=l1 ........................\n",
      "[CV] ......... logistic__C=1000.0, logistic__penalty=l1, total=   5.8s\n",
      "[CV] logistic__C=1000.0, logistic__penalty=l2 ........................\n",
      "[CV] ......... logistic__C=1000.0, logistic__penalty=l2, total=   5.2s\n",
      "[CV] logistic__C=1000.0, logistic__penalty=l2 ........................\n",
      "[CV] ......... logistic__C=1000.0, logistic__penalty=l2, total=   4.8s\n",
      "[CV] logistic__C=1000.0, logistic__penalty=l2 ........................\n",
      "[CV] ......... logistic__C=1000.0, logistic__penalty=l2, total=   5.5s\n",
      "[CV] logistic__C=1000.0, logistic__penalty=l2 ........................\n",
      "[CV] ......... logistic__C=1000.0, logistic__penalty=l2, total=   5.5s\n",
      "[CV] logistic__C=1000.0, logistic__penalty=l2 ........................\n",
      "[CV] ......... logistic__C=1000.0, logistic__penalty=l2, total=   6.1s\n"
     ]
    },
    {
     "name": "stderr",
     "output_type": "stream",
     "text": [
      "[Parallel(n_jobs=1)]: Done  70 out of  70 | elapsed:  6.9min finished\n"
     ]
    },
    {
     "name": "stdout",
     "output_type": "stream",
     "text": [
      "Fitting 5 folds for each of 9 candidates, totalling 45 fits\n",
      "[CV] max_depth=2, max_features=15 ....................................\n"
     ]
    },
    {
     "name": "stderr",
     "output_type": "stream",
     "text": [
      "[Parallel(n_jobs=1)]: Using backend SequentialBackend with 1 concurrent workers.\n"
     ]
    },
    {
     "name": "stdout",
     "output_type": "stream",
     "text": [
      "[CV] ..................... max_depth=2, max_features=15, total=  17.4s\n",
      "[CV] max_depth=2, max_features=15 ....................................\n"
     ]
    },
    {
     "name": "stderr",
     "output_type": "stream",
     "text": [
      "[Parallel(n_jobs=1)]: Done   1 out of   1 | elapsed:   18.2s remaining:    0.0s\n"
     ]
    },
    {
     "name": "stdout",
     "output_type": "stream",
     "text": [
      "[CV] ..................... max_depth=2, max_features=15, total=  16.1s\n",
      "[CV] max_depth=2, max_features=15 ....................................\n",
      "[CV] ..................... max_depth=2, max_features=15, total=  22.0s\n",
      "[CV] max_depth=2, max_features=15 ....................................\n",
      "[CV] ..................... max_depth=2, max_features=15, total=  11.8s\n",
      "[CV] max_depth=2, max_features=15 ....................................\n",
      "[CV] ..................... max_depth=2, max_features=15, total=  13.1s\n",
      "[CV] max_depth=3, max_features=15 ....................................\n",
      "[CV] ..................... max_depth=3, max_features=15, total=  17.5s\n",
      "[CV] max_depth=3, max_features=15 ....................................\n",
      "[CV] ..................... max_depth=3, max_features=15, total=  19.1s\n",
      "[CV] max_depth=3, max_features=15 ....................................\n",
      "[CV] ..................... max_depth=3, max_features=15, total=  16.8s\n",
      "[CV] max_depth=3, max_features=15 ....................................\n",
      "[CV] ..................... max_depth=3, max_features=15, total=  18.5s\n",
      "[CV] max_depth=3, max_features=15 ....................................\n",
      "[CV] ..................... max_depth=3, max_features=15, total=  16.6s\n",
      "[CV] max_depth=4, max_features=15 ....................................\n",
      "[CV] ..................... max_depth=4, max_features=15, total=  22.5s\n",
      "[CV] max_depth=4, max_features=15 ....................................\n",
      "[CV] ..................... max_depth=4, max_features=15, total=  29.7s\n",
      "[CV] max_depth=4, max_features=15 ....................................\n",
      "[CV] ..................... max_depth=4, max_features=15, total=  27.7s\n",
      "[CV] max_depth=4, max_features=15 ....................................\n",
      "[CV] ..................... max_depth=4, max_features=15, total=  24.6s\n",
      "[CV] max_depth=4, max_features=15 ....................................\n",
      "[CV] ..................... max_depth=4, max_features=15, total=  33.1s\n",
      "[CV] max_depth=5, max_features=15 ....................................\n",
      "[CV] ..................... max_depth=5, max_features=15, total=  38.1s\n",
      "[CV] max_depth=5, max_features=15 ....................................\n",
      "[CV] ..................... max_depth=5, max_features=15, total=  45.3s\n",
      "[CV] max_depth=5, max_features=15 ....................................\n",
      "[CV] ..................... max_depth=5, max_features=15, total=  36.9s\n",
      "[CV] max_depth=5, max_features=15 ....................................\n",
      "[CV] ..................... max_depth=5, max_features=15, total=  31.2s\n",
      "[CV] max_depth=5, max_features=15 ....................................\n",
      "[CV] ..................... max_depth=5, max_features=15, total=  32.8s\n",
      "[CV] max_depth=6, max_features=15 ....................................\n",
      "[CV] ..................... max_depth=6, max_features=15, total=  41.1s\n",
      "[CV] max_depth=6, max_features=15 ....................................\n",
      "[CV] ..................... max_depth=6, max_features=15, total=  37.0s\n",
      "[CV] max_depth=6, max_features=15 ....................................\n",
      "[CV] ..................... max_depth=6, max_features=15, total=  39.0s\n",
      "[CV] max_depth=6, max_features=15 ....................................\n",
      "[CV] ..................... max_depth=6, max_features=15, total=  43.2s\n",
      "[CV] max_depth=6, max_features=15 ....................................\n",
      "[CV] ..................... max_depth=6, max_features=15, total=  40.3s\n",
      "[CV] max_depth=7, max_features=15 ....................................\n",
      "[CV] ..................... max_depth=7, max_features=15, total=  49.4s\n",
      "[CV] max_depth=7, max_features=15 ....................................\n",
      "[CV] ..................... max_depth=7, max_features=15, total=  51.3s\n",
      "[CV] max_depth=7, max_features=15 ....................................\n",
      "[CV] ..................... max_depth=7, max_features=15, total=  49.2s\n",
      "[CV] max_depth=7, max_features=15 ....................................\n",
      "[CV] ..................... max_depth=7, max_features=15, total=  47.8s\n",
      "[CV] max_depth=7, max_features=15 ....................................\n",
      "[CV] ..................... max_depth=7, max_features=15, total=  45.2s\n",
      "[CV] max_depth=8, max_features=15 ....................................\n",
      "[CV] ..................... max_depth=8, max_features=15, total=  52.2s\n",
      "[CV] max_depth=8, max_features=15 ....................................\n",
      "[CV] ..................... max_depth=8, max_features=15, total=  55.6s\n",
      "[CV] max_depth=8, max_features=15 ....................................\n",
      "[CV] ..................... max_depth=8, max_features=15, total=  47.2s\n",
      "[CV] max_depth=8, max_features=15 ....................................\n",
      "[CV] ..................... max_depth=8, max_features=15, total=  53.8s\n",
      "[CV] max_depth=8, max_features=15 ....................................\n",
      "[CV] ..................... max_depth=8, max_features=15, total= 1.1min\n",
      "[CV] max_depth=9, max_features=15 ....................................\n",
      "[CV] ..................... max_depth=9, max_features=15, total= 1.2min\n",
      "[CV] max_depth=9, max_features=15 ....................................\n",
      "[CV] ..................... max_depth=9, max_features=15, total= 1.1min\n",
      "[CV] max_depth=9, max_features=15 ....................................\n",
      "[CV] ..................... max_depth=9, max_features=15, total= 1.3min\n",
      "[CV] max_depth=9, max_features=15 ....................................\n",
      "[CV] ..................... max_depth=9, max_features=15, total= 1.2min\n",
      "[CV] max_depth=9, max_features=15 ....................................\n",
      "[CV] ..................... max_depth=9, max_features=15, total= 1.2min\n",
      "[CV] max_depth=10, max_features=15 ...................................\n",
      "[CV] .................... max_depth=10, max_features=15, total= 1.0min\n",
      "[CV] max_depth=10, max_features=15 ...................................\n",
      "[CV] .................... max_depth=10, max_features=15, total= 1.1min\n",
      "[CV] max_depth=10, max_features=15 ...................................\n",
      "[CV] .................... max_depth=10, max_features=15, total= 1.1min\n",
      "[CV] max_depth=10, max_features=15 ...................................\n",
      "[CV] .................... max_depth=10, max_features=15, total= 1.3min\n",
      "[CV] max_depth=10, max_features=15 ...................................\n",
      "[CV] .................... max_depth=10, max_features=15, total= 1.0min\n"
     ]
    },
    {
     "name": "stderr",
     "output_type": "stream",
     "text": [
      "[Parallel(n_jobs=1)]: Done  45 out of  45 | elapsed: 32.5min finished\n"
     ]
    },
    {
     "name": "stdout",
     "output_type": "stream",
     "text": [
      "Fitting 5 folds for each of 9 candidates, totalling 45 fits\n",
      "[CV] max_depth=2, max_features=15 ....................................\n"
     ]
    },
    {
     "name": "stderr",
     "output_type": "stream",
     "text": [
      "[Parallel(n_jobs=1)]: Using backend SequentialBackend with 1 concurrent workers.\n"
     ]
    },
    {
     "name": "stdout",
     "output_type": "stream",
     "text": [
      "[CV] ..................... max_depth=2, max_features=15, total=  19.2s\n",
      "[CV] max_depth=2, max_features=15 ....................................\n"
     ]
    },
    {
     "name": "stderr",
     "output_type": "stream",
     "text": [
      "[Parallel(n_jobs=1)]: Done   1 out of   1 | elapsed:   20.0s remaining:    0.0s\n"
     ]
    },
    {
     "name": "stdout",
     "output_type": "stream",
     "text": [
      "[CV] ..................... max_depth=2, max_features=15, total=  18.1s\n",
      "[CV] max_depth=2, max_features=15 ....................................\n",
      "[CV] ..................... max_depth=2, max_features=15, total=  18.4s\n",
      "[CV] max_depth=2, max_features=15 ....................................\n",
      "[CV] ..................... max_depth=2, max_features=15, total=  18.7s\n",
      "[CV] max_depth=2, max_features=15 ....................................\n",
      "[CV] ..................... max_depth=2, max_features=15, total=  18.7s\n",
      "[CV] max_depth=3, max_features=15 ....................................\n",
      "[CV] ..................... max_depth=3, max_features=15, total=  26.7s\n",
      "[CV] max_depth=3, max_features=15 ....................................\n",
      "[CV] ..................... max_depth=3, max_features=15, total=  28.4s\n",
      "[CV] max_depth=3, max_features=15 ....................................\n",
      "[CV] ..................... max_depth=3, max_features=15, total=  26.8s\n",
      "[CV] max_depth=3, max_features=15 ....................................\n",
      "[CV] ..................... max_depth=3, max_features=15, total=  29.0s\n",
      "[CV] max_depth=3, max_features=15 ....................................\n",
      "[CV] ..................... max_depth=3, max_features=15, total=  29.7s\n",
      "[CV] max_depth=4, max_features=15 ....................................\n",
      "[CV] ..................... max_depth=4, max_features=15, total=  40.4s\n",
      "[CV] max_depth=4, max_features=15 ....................................\n",
      "[CV] ..................... max_depth=4, max_features=15, total=  43.9s\n",
      "[CV] max_depth=4, max_features=15 ....................................\n",
      "[CV] ..................... max_depth=4, max_features=15, total=  43.6s\n",
      "[CV] max_depth=4, max_features=15 ....................................\n",
      "[CV] ..................... max_depth=4, max_features=15, total=  42.6s\n",
      "[CV] max_depth=4, max_features=15 ....................................\n",
      "[CV] ..................... max_depth=4, max_features=15, total=  42.0s\n",
      "[CV] max_depth=5, max_features=15 ....................................\n",
      "[CV] ..................... max_depth=5, max_features=15, total=  54.3s\n",
      "[CV] max_depth=5, max_features=15 ....................................\n",
      "[CV] ..................... max_depth=5, max_features=15, total=  55.0s\n",
      "[CV] max_depth=5, max_features=15 ....................................\n",
      "[CV] ..................... max_depth=5, max_features=15, total=  56.2s\n",
      "[CV] max_depth=5, max_features=15 ....................................\n",
      "[CV] ..................... max_depth=5, max_features=15, total= 1.0min\n",
      "[CV] max_depth=5, max_features=15 ....................................\n",
      "[CV] ..................... max_depth=5, max_features=15, total=  54.0s\n",
      "[CV] max_depth=6, max_features=15 ....................................\n",
      "[CV] ..................... max_depth=6, max_features=15, total=  59.2s\n",
      "[CV] max_depth=6, max_features=15 ....................................\n",
      "[CV] ..................... max_depth=6, max_features=15, total= 1.1min\n",
      "[CV] max_depth=6, max_features=15 ....................................\n",
      "[CV] ..................... max_depth=6, max_features=15, total= 1.1min\n",
      "[CV] max_depth=6, max_features=15 ....................................\n",
      "[CV] ..................... max_depth=6, max_features=15, total= 1.1min\n",
      "[CV] max_depth=6, max_features=15 ....................................\n",
      "[CV] ..................... max_depth=6, max_features=15, total= 1.1min\n",
      "[CV] max_depth=7, max_features=15 ....................................\n",
      "[CV] ..................... max_depth=7, max_features=15, total= 1.3min\n",
      "[CV] max_depth=7, max_features=15 ....................................\n",
      "[CV] ..................... max_depth=7, max_features=15, total= 1.3min\n",
      "[CV] max_depth=7, max_features=15 ....................................\n",
      "[CV] ..................... max_depth=7, max_features=15, total= 1.3min\n",
      "[CV] max_depth=7, max_features=15 ....................................\n",
      "[CV] ..................... max_depth=7, max_features=15, total= 1.3min\n",
      "[CV] max_depth=7, max_features=15 ....................................\n",
      "[CV] ..................... max_depth=7, max_features=15, total= 1.3min\n",
      "[CV] max_depth=8, max_features=15 ....................................\n",
      "[CV] ..................... max_depth=8, max_features=15, total= 1.4min\n",
      "[CV] max_depth=8, max_features=15 ....................................\n",
      "[CV] ..................... max_depth=8, max_features=15, total= 1.4min\n",
      "[CV] max_depth=8, max_features=15 ....................................\n",
      "[CV] ..................... max_depth=8, max_features=15, total= 1.4min\n",
      "[CV] max_depth=8, max_features=15 ....................................\n",
      "[CV] ..................... max_depth=8, max_features=15, total= 1.4min\n",
      "[CV] max_depth=8, max_features=15 ....................................\n",
      "[CV] ..................... max_depth=8, max_features=15, total= 1.4min\n",
      "[CV] max_depth=9, max_features=15 ....................................\n",
      "[CV] ..................... max_depth=9, max_features=15, total= 1.7min\n",
      "[CV] max_depth=9, max_features=15 ....................................\n",
      "[CV] ..................... max_depth=9, max_features=15, total= 1.6min\n",
      "[CV] max_depth=9, max_features=15 ....................................\n",
      "[CV] ..................... max_depth=9, max_features=15, total= 1.5min\n",
      "[CV] max_depth=9, max_features=15 ....................................\n",
      "[CV] ..................... max_depth=9, max_features=15, total= 1.4min\n",
      "[CV] max_depth=9, max_features=15 ....................................\n",
      "[CV] ..................... max_depth=9, max_features=15, total= 1.3min\n",
      "[CV] max_depth=10, max_features=15 ...................................\n",
      "[CV] .................... max_depth=10, max_features=15, total= 1.7min\n",
      "[CV] max_depth=10, max_features=15 ...................................\n",
      "[CV] .................... max_depth=10, max_features=15, total= 1.7min\n",
      "[CV] max_depth=10, max_features=15 ...................................\n",
      "[CV] .................... max_depth=10, max_features=15, total= 1.7min\n",
      "[CV] max_depth=10, max_features=15 ...................................\n",
      "[CV] .................... max_depth=10, max_features=15, total= 1.5min\n",
      "[CV] max_depth=10, max_features=15 ...................................\n",
      "[CV] .................... max_depth=10, max_features=15, total= 1.6min\n"
     ]
    },
    {
     "name": "stderr",
     "output_type": "stream",
     "text": [
      "[Parallel(n_jobs=1)]: Done  45 out of  45 | elapsed: 47.3min finished\n"
     ]
    },
    {
     "name": "stdout",
     "output_type": "stream",
     "text": [
      "Fitting 5 folds for each of 12 candidates, totalling 60 fits\n",
      "[CV] learning_rate=0.01, n_estimators=50 .............................\n"
     ]
    },
    {
     "name": "stderr",
     "output_type": "stream",
     "text": [
      "[Parallel(n_jobs=1)]: Using backend SequentialBackend with 1 concurrent workers.\n"
     ]
    },
    {
     "name": "stdout",
     "output_type": "stream",
     "text": [
      "[CV] .............. learning_rate=0.01, n_estimators=50, total= 2.3min\n",
      "[CV] learning_rate=0.01, n_estimators=50 .............................\n"
     ]
    },
    {
     "name": "stderr",
     "output_type": "stream",
     "text": [
      "[Parallel(n_jobs=1)]: Done   1 out of   1 | elapsed:  2.4min remaining:    0.0s\n"
     ]
    },
    {
     "name": "stdout",
     "output_type": "stream",
     "text": [
      "[CV] .............. learning_rate=0.01, n_estimators=50, total= 2.4min\n",
      "[CV] learning_rate=0.01, n_estimators=50 .............................\n",
      "[CV] .............. learning_rate=0.01, n_estimators=50, total= 2.4min\n",
      "[CV] learning_rate=0.01, n_estimators=50 .............................\n",
      "[CV] .............. learning_rate=0.01, n_estimators=50, total= 2.5min\n",
      "[CV] learning_rate=0.01, n_estimators=50 .............................\n",
      "[CV] .............. learning_rate=0.01, n_estimators=50, total= 2.2min\n",
      "[CV] learning_rate=0.01, n_estimators=100 ............................\n",
      "[CV] ............. learning_rate=0.01, n_estimators=100, total= 4.3min\n",
      "[CV] learning_rate=0.01, n_estimators=100 ............................\n",
      "[CV] ............. learning_rate=0.01, n_estimators=100, total=19.8min\n",
      "[CV] learning_rate=0.01, n_estimators=100 ............................\n",
      "[CV] ............. learning_rate=0.01, n_estimators=100, total= 5.5min\n",
      "[CV] learning_rate=0.01, n_estimators=100 ............................\n",
      "[CV] ............. learning_rate=0.01, n_estimators=100, total= 4.9min\n",
      "[CV] learning_rate=0.01, n_estimators=100 ............................\n",
      "[CV] ............. learning_rate=0.01, n_estimators=100, total= 4.9min\n",
      "[CV] learning_rate=0.01, n_estimators=200 ............................\n",
      "[CV] ............. learning_rate=0.01, n_estimators=200, total= 4.5min\n",
      "[CV] learning_rate=0.01, n_estimators=200 ............................\n",
      "[CV] ............. learning_rate=0.01, n_estimators=200, total= 5.4min\n",
      "[CV] learning_rate=0.01, n_estimators=200 ............................\n",
      "[CV] ............. learning_rate=0.01, n_estimators=200, total= 5.3min\n",
      "[CV] learning_rate=0.01, n_estimators=200 ............................\n",
      "[CV] ............. learning_rate=0.01, n_estimators=200, total= 5.3min\n",
      "[CV] learning_rate=0.01, n_estimators=200 ............................\n",
      "[CV] ............. learning_rate=0.01, n_estimators=200, total= 5.0min\n",
      "[CV] learning_rate=0.1, n_estimators=50 ..............................\n",
      "[CV] ............... learning_rate=0.1, n_estimators=50, total= 1.4min\n",
      "[CV] learning_rate=0.1, n_estimators=50 ..............................\n",
      "[CV] ............... learning_rate=0.1, n_estimators=50, total= 1.4min\n",
      "[CV] learning_rate=0.1, n_estimators=50 ..............................\n",
      "[CV] ............... learning_rate=0.1, n_estimators=50, total= 1.4min\n",
      "[CV] learning_rate=0.1, n_estimators=50 ..............................\n",
      "[CV] ............... learning_rate=0.1, n_estimators=50, total= 1.5min\n",
      "[CV] learning_rate=0.1, n_estimators=50 ..............................\n",
      "[CV] ............... learning_rate=0.1, n_estimators=50, total= 1.5min\n",
      "[CV] learning_rate=0.1, n_estimators=100 .............................\n",
      "[CV] .............. learning_rate=0.1, n_estimators=100, total= 1.4min\n",
      "[CV] learning_rate=0.1, n_estimators=100 .............................\n",
      "[CV] .............. learning_rate=0.1, n_estimators=100, total= 1.4min\n",
      "[CV] learning_rate=0.1, n_estimators=100 .............................\n",
      "[CV] .............. learning_rate=0.1, n_estimators=100, total=65.4min\n",
      "[CV] learning_rate=0.1, n_estimators=100 .............................\n",
      "[CV] .............. learning_rate=0.1, n_estimators=100, total=28.1min\n",
      "[CV] learning_rate=0.1, n_estimators=100 .............................\n",
      "[CV] .............. learning_rate=0.1, n_estimators=100, total= 1.7min\n",
      "[CV] learning_rate=0.1, n_estimators=200 .............................\n",
      "[CV] .............. learning_rate=0.1, n_estimators=200, total= 1.6min\n",
      "[CV] learning_rate=0.1, n_estimators=200 .............................\n",
      "[CV] .............. learning_rate=0.1, n_estimators=200, total= 1.5min\n",
      "[CV] learning_rate=0.1, n_estimators=200 .............................\n",
      "[CV] .............. learning_rate=0.1, n_estimators=200, total= 1.5min\n",
      "[CV] learning_rate=0.1, n_estimators=200 .............................\n",
      "[CV] .............. learning_rate=0.1, n_estimators=200, total= 1.5min\n",
      "[CV] learning_rate=0.1, n_estimators=200 .............................\n",
      "[CV] .............. learning_rate=0.1, n_estimators=200, total= 1.5min\n",
      "[CV] learning_rate=0.5, n_estimators=50 ..............................\n",
      "[CV] ............... learning_rate=0.5, n_estimators=50, total=  28.5s\n",
      "[CV] learning_rate=0.5, n_estimators=50 ..............................\n",
      "[CV] ............... learning_rate=0.5, n_estimators=50, total=  35.1s\n",
      "[CV] learning_rate=0.5, n_estimators=50 ..............................\n",
      "[CV] ............... learning_rate=0.5, n_estimators=50, total=  30.9s\n",
      "[CV] learning_rate=0.5, n_estimators=50 ..............................\n",
      "[CV] ............... learning_rate=0.5, n_estimators=50, total=  34.7s\n",
      "[CV] learning_rate=0.5, n_estimators=50 ..............................\n",
      "[CV] ............... learning_rate=0.5, n_estimators=50, total=  33.6s\n",
      "[CV] learning_rate=0.5, n_estimators=100 .............................\n",
      "[CV] .............. learning_rate=0.5, n_estimators=100, total=  28.3s\n",
      "[CV] learning_rate=0.5, n_estimators=100 .............................\n",
      "[CV] .............. learning_rate=0.5, n_estimators=100, total=  34.5s\n",
      "[CV] learning_rate=0.5, n_estimators=100 .............................\n",
      "[CV] .............. learning_rate=0.5, n_estimators=100, total=  29.4s\n",
      "[CV] learning_rate=0.5, n_estimators=100 .............................\n",
      "[CV] .............. learning_rate=0.5, n_estimators=100, total=  35.0s\n",
      "[CV] learning_rate=0.5, n_estimators=100 .............................\n",
      "[CV] .............. learning_rate=0.5, n_estimators=100, total=  35.3s\n",
      "[CV] learning_rate=0.5, n_estimators=200 .............................\n",
      "[CV] .............. learning_rate=0.5, n_estimators=200, total=  28.8s\n",
      "[CV] learning_rate=0.5, n_estimators=200 .............................\n",
      "[CV] .............. learning_rate=0.5, n_estimators=200, total=  35.2s\n",
      "[CV] learning_rate=0.5, n_estimators=200 .............................\n",
      "[CV] .............. learning_rate=0.5, n_estimators=200, total=  33.4s\n",
      "[CV] learning_rate=0.5, n_estimators=200 .............................\n",
      "[CV] .............. learning_rate=0.5, n_estimators=200, total=  32.5s\n",
      "[CV] learning_rate=0.5, n_estimators=200 .............................\n",
      "[CV] .............. learning_rate=0.5, n_estimators=200, total=  33.3s\n",
      "[CV] learning_rate=1, n_estimators=50 ................................\n",
      "[CV] ................. learning_rate=1, n_estimators=50, total=  22.2s\n",
      "[CV] learning_rate=1, n_estimators=50 ................................\n",
      "[CV] ................. learning_rate=1, n_estimators=50, total=  19.6s\n",
      "[CV] learning_rate=1, n_estimators=50 ................................\n",
      "[CV] ................. learning_rate=1, n_estimators=50, total=  20.2s\n",
      "[CV] learning_rate=1, n_estimators=50 ................................\n",
      "[CV] ................. learning_rate=1, n_estimators=50, total=  26.3s\n",
      "[CV] learning_rate=1, n_estimators=50 ................................\n",
      "[CV] ................. learning_rate=1, n_estimators=50, total=  25.6s\n",
      "[CV] learning_rate=1, n_estimators=100 ...............................\n",
      "[CV] ................ learning_rate=1, n_estimators=100, total=  21.1s\n",
      "[CV] learning_rate=1, n_estimators=100 ...............................\n",
      "[CV] ................ learning_rate=1, n_estimators=100, total=  21.9s\n",
      "[CV] learning_rate=1, n_estimators=100 ...............................\n",
      "[CV] ................ learning_rate=1, n_estimators=100, total=  22.7s\n",
      "[CV] learning_rate=1, n_estimators=100 ...............................\n",
      "[CV] ................ learning_rate=1, n_estimators=100, total=  21.4s\n",
      "[CV] learning_rate=1, n_estimators=100 ...............................\n",
      "[CV] ................ learning_rate=1, n_estimators=100, total=  21.8s\n",
      "[CV] learning_rate=1, n_estimators=200 ...............................\n",
      "[CV] ................ learning_rate=1, n_estimators=200, total=  21.2s\n",
      "[CV] learning_rate=1, n_estimators=200 ...............................\n",
      "[CV] ................ learning_rate=1, n_estimators=200, total=  22.7s\n",
      "[CV] learning_rate=1, n_estimators=200 ...............................\n",
      "[CV] ................ learning_rate=1, n_estimators=200, total=  20.9s\n",
      "[CV] learning_rate=1, n_estimators=200 ...............................\n",
      "[CV] ................ learning_rate=1, n_estimators=200, total=  21.7s\n",
      "[CV] learning_rate=1, n_estimators=200 ...............................\n"
     ]
    },
    {
     "name": "stdout",
     "output_type": "stream",
     "text": [
      "[CV] ................ learning_rate=1, n_estimators=200, total=  18.0s\n"
     ]
    },
    {
     "name": "stderr",
     "output_type": "stream",
     "text": [
      "[Parallel(n_jobs=1)]: Done  60 out of  60 | elapsed: 204.3min finished\n"
     ]
    }
   ],
   "source": [
    "model_results = {}\n",
    "for name, model in models.items():\n",
    "    \n",
    "    use_grid = [k for k in param_grids.keys() if k in name][0]\n",
    "    grid_search = GridSearchCV(estimator = model, param_grid = param_grids[use_grid], scoring='roc_auc', cv = skf, verbose = 2, return_train_score=True)\n",
    "    \n",
    "    if 'SMOTE' in name:\n",
    "        X_res, y_res = SMOTE(random_state=42).fit_sample(X_train, y_train)\n",
    "        grid_search.fit(X_res, y_res)\n",
    "    else:\n",
    "        grid_search.fit(X_train, y_train)\n",
    "    test_score = grid_search.best_score_\n",
    "    best_test_idx = np.argmax(grid_search.cv_results_['mean_test_score'])\n",
    "    train_score = grid_search.cv_results_['mean_train_score'][best_test_idx]\n",
    "    \n",
    "    best_grid = grid_search.best_estimator_\n",
    "    best_grid.fit(X_train, y_train)\n",
    "    feat_imp = best_grid.named_steps['logistic'].coef_ if 'LogisticRegression' in name else best_grid.feature_importances_\n",
    "    \n",
    "    y_pred = best_grid.predict(X_test)\n",
    "    if 'LogisticRegression' in name:\n",
    "        fpr, tpr, thresholds = roc_curve(y_test, best_grid.predict_proba(X_test)[:,1])\n",
    "    else:\n",
    "        fpr, tpr, thresholds = roc_curve(y_test, best_grid.predict_proba(X_test)[:,1])\n",
    "    \n",
    "    model_results[name] = [grid_search.best_params_, grid_search.best_estimator_, train_score, test_score, feat_imp, fpr, tpr]\n",
    "    "
   ]
  },
  {
   "cell_type": "code",
   "execution_count": 17,
   "metadata": {},
   "outputs": [
    {
     "data": {
      "text/html": [
       "<div>\n",
       "<style scoped>\n",
       "    .dataframe tbody tr th:only-of-type {\n",
       "        vertical-align: middle;\n",
       "    }\n",
       "\n",
       "    .dataframe tbody tr th {\n",
       "        vertical-align: top;\n",
       "    }\n",
       "\n",
       "    .dataframe thead th {\n",
       "        text-align: right;\n",
       "    }\n",
       "</style>\n",
       "<table border=\"1\" class=\"dataframe\">\n",
       "  <thead>\n",
       "    <tr style=\"text-align: right;\">\n",
       "      <th></th>\n",
       "      <th>Best_Params</th>\n",
       "      <th>Best_Estimator</th>\n",
       "      <th>Train</th>\n",
       "      <th>Test</th>\n",
       "      <th>Feature_Imp</th>\n",
       "      <th>FPR</th>\n",
       "      <th>TPR</th>\n",
       "    </tr>\n",
       "  </thead>\n",
       "  <tbody>\n",
       "    <tr>\n",
       "      <th>LogisticRegression</th>\n",
       "      <td>{'logistic__C': 0.001, 'logistic__penalty': 'l1'}</td>\n",
       "      <td>(StandardScaler(), LogisticRegression(C=0.001,...</td>\n",
       "      <td>0.703743</td>\n",
       "      <td>0.703729</td>\n",
       "      <td>[[-0.1270218819299402, 0.686988105357389, -0.0...</td>\n",
       "      <td>[0.0, 0.0, 0.0, 1.221433718899244e-05, 1.22143...</td>\n",
       "      <td>[0.0, 2.3807256451766497e-05, 7.14217693552995...</td>\n",
       "    </tr>\n",
       "    <tr>\n",
       "      <th>LogisticRegression_SMOTE</th>\n",
       "      <td>{'logistic__C': 0.001, 'logistic__penalty': 'l1'}</td>\n",
       "      <td>(StandardScaler(), LogisticRegression(C=0.001,...</td>\n",
       "      <td>0.704685</td>\n",
       "      <td>0.704665</td>\n",
       "      <td>[[-0.10317710398150756, 0.7446102980244347, -0...</td>\n",
       "      <td>[0.0, 0.0, 0.0, 1.221433718899244e-05, 1.22143...</td>\n",
       "      <td>[0.0, 2.3807256451766497e-05, 7.14217693552995...</td>\n",
       "    </tr>\n",
       "    <tr>\n",
       "      <th>RandomForest</th>\n",
       "      <td>{'max_depth': 10, 'max_features': 15}</td>\n",
       "      <td>(DecisionTreeClassifier(max_depth=10, max_feat...</td>\n",
       "      <td>0.918845</td>\n",
       "      <td>0.911446</td>\n",
       "      <td>[0.43952078259467564, 0.41582868352240115, 0.1...</td>\n",
       "      <td>[0.0, 0.0, 0.0, 0.0, 0.0, 2.442867437798488e-0...</td>\n",
       "      <td>[0.0, 0.004904294829063898, 0.0197124083420626...</td>\n",
       "    </tr>\n",
       "    <tr>\n",
       "      <th>RandomForest_SMOTE</th>\n",
       "      <td>{'max_depth': 10, 'max_features': 15}</td>\n",
       "      <td>(DecisionTreeClassifier(max_depth=10, max_feat...</td>\n",
       "      <td>0.920725</td>\n",
       "      <td>0.915640</td>\n",
       "      <td>[0.430911244603423, 0.41702397040048395, 0.139...</td>\n",
       "      <td>[0.0, 0.0, 0.0, 0.0, 0.0, 1.221433718899244e-0...</td>\n",
       "      <td>[0.0, 0.004904294829063898, 0.0197124083420626...</td>\n",
       "    </tr>\n",
       "    <tr>\n",
       "      <th>GradientBoosting_ES</th>\n",
       "      <td>{'learning_rate': 0.1, 'n_estimators': 50}</td>\n",
       "      <td>([DecisionTreeRegressor(criterion='friedman_ms...</td>\n",
       "      <td>0.933801</td>\n",
       "      <td>0.918525</td>\n",
       "      <td>[0.41175878697679685, 0.3959677507973093, 0.15...</td>\n",
       "      <td>[0.0, 0.0, 0.0, 0.0, 0.0, 0.0, 0.0, 0.0, 0.0, ...</td>\n",
       "      <td>[0.0, 2.3807256451766497e-05, 0.00014284353871...</td>\n",
       "    </tr>\n",
       "  </tbody>\n",
       "</table>\n",
       "</div>"
      ],
      "text/plain": [
       "                                                                Best_Params  \\\n",
       "LogisticRegression        {'logistic__C': 0.001, 'logistic__penalty': 'l1'}   \n",
       "LogisticRegression_SMOTE  {'logistic__C': 0.001, 'logistic__penalty': 'l1'}   \n",
       "RandomForest                          {'max_depth': 10, 'max_features': 15}   \n",
       "RandomForest_SMOTE                    {'max_depth': 10, 'max_features': 15}   \n",
       "GradientBoosting_ES              {'learning_rate': 0.1, 'n_estimators': 50}   \n",
       "\n",
       "                                                             Best_Estimator  \\\n",
       "LogisticRegression        (StandardScaler(), LogisticRegression(C=0.001,...   \n",
       "LogisticRegression_SMOTE  (StandardScaler(), LogisticRegression(C=0.001,...   \n",
       "RandomForest              (DecisionTreeClassifier(max_depth=10, max_feat...   \n",
       "RandomForest_SMOTE        (DecisionTreeClassifier(max_depth=10, max_feat...   \n",
       "GradientBoosting_ES       ([DecisionTreeRegressor(criterion='friedman_ms...   \n",
       "\n",
       "                             Train      Test  \\\n",
       "LogisticRegression        0.703743  0.703729   \n",
       "LogisticRegression_SMOTE  0.704685  0.704665   \n",
       "RandomForest              0.918845  0.911446   \n",
       "RandomForest_SMOTE        0.920725  0.915640   \n",
       "GradientBoosting_ES       0.933801  0.918525   \n",
       "\n",
       "                                                                Feature_Imp  \\\n",
       "LogisticRegression        [[-0.1270218819299402, 0.686988105357389, -0.0...   \n",
       "LogisticRegression_SMOTE  [[-0.10317710398150756, 0.7446102980244347, -0...   \n",
       "RandomForest              [0.43952078259467564, 0.41582868352240115, 0.1...   \n",
       "RandomForest_SMOTE        [0.430911244603423, 0.41702397040048395, 0.139...   \n",
       "GradientBoosting_ES       [0.41175878697679685, 0.3959677507973093, 0.15...   \n",
       "\n",
       "                                                                        FPR  \\\n",
       "LogisticRegression        [0.0, 0.0, 0.0, 1.221433718899244e-05, 1.22143...   \n",
       "LogisticRegression_SMOTE  [0.0, 0.0, 0.0, 1.221433718899244e-05, 1.22143...   \n",
       "RandomForest              [0.0, 0.0, 0.0, 0.0, 0.0, 2.442867437798488e-0...   \n",
       "RandomForest_SMOTE        [0.0, 0.0, 0.0, 0.0, 0.0, 1.221433718899244e-0...   \n",
       "GradientBoosting_ES       [0.0, 0.0, 0.0, 0.0, 0.0, 0.0, 0.0, 0.0, 0.0, ...   \n",
       "\n",
       "                                                                        TPR  \n",
       "LogisticRegression        [0.0, 2.3807256451766497e-05, 7.14217693552995...  \n",
       "LogisticRegression_SMOTE  [0.0, 2.3807256451766497e-05, 7.14217693552995...  \n",
       "RandomForest              [0.0, 0.004904294829063898, 0.0197124083420626...  \n",
       "RandomForest_SMOTE        [0.0, 0.004904294829063898, 0.0197124083420626...  \n",
       "GradientBoosting_ES       [0.0, 2.3807256451766497e-05, 0.00014284353871...  "
      ]
     },
     "execution_count": 17,
     "metadata": {},
     "output_type": "execute_result"
    }
   ],
   "source": [
    "df = pd.DataFrame.from_dict(model_results, orient='index', columns=['Best_Params', 'Best_Estimator', 'Train', 'Test', 'Feature_Imp','FPR', 'TPR'])\n",
    "df"
   ]
  },
  {
   "cell_type": "markdown",
   "metadata": {},
   "source": [
    "From the above results from training our candidate models, the `GradientBoostingClassiier` appears to perform best, followed closely by both `RandomForestClassifier` models, with both `LogisticRegressionClassifier` models well behind. It also looks like using `SMOTE` doesn't really perform much differently from using `class_weight='balanced'` for the latter two types of classifiers.\n",
    "\n",
    "We will go ahead and select `GradientBoostingClassifier` as \"best\" and the classifier to continue to optimize. While it only marginally performs better than `RandomForestClassifier`, it appears the `Best_Estimator` for that model is \"artificially\" optimized with the maximum values of `max_depth` (and some previous work showed this is true if we vary `max_features` and `n_estimators`), which may be overfitting some -- while our specification of `GradientBoostingClassifier` is attempting to reduce overfitting.\n",
    "\n",
    "Below, we plot the ROC curves of each `Best_Estimator` for further evidence of the performance of our version of `GradientBoostingClassifier` over the other candidate models."
   ]
  },
  {
   "cell_type": "code",
   "execution_count": 18,
   "metadata": {},
   "outputs": [
    {
     "data": {
      "text/plain": [
       "<matplotlib.legend.Legend at 0x10d0f3278>"
      ]
     },
     "execution_count": 18,
     "metadata": {},
     "output_type": "execute_result"
    },
    {
     "data": {
      "image/png": "[encoded data removed]",
      "text/plain": [
       "<Figure size 1080x720 with 1 Axes>"
      ]
     },
     "metadata": {},
     "output_type": "display_data"
    }
   ],
   "source": [
    "plt.figure(figsize=(15,10))\n",
    "for i,row in df.iterrows():\n",
    "    plt.plot(row['FPR'], row['TPR'], lw=1.5, label=i)\n",
    "plt.legend()"
   ]
  },
  {
   "cell_type": "markdown",
   "metadata": {},
   "source": [
    "Let's now more exhaustively tune hyperparameters for this \"best\" version of `GradientBoostingClassifier`. We'll do these in sequence for now, first `max_depth`, then `max_features`, then `n_estimators` (the number of trees) and finally the `learning_rate`.\n",
    "\n",
    "We'll be scoring using `fbeta_score` with `beta = 2` and create a custom scorer first to pass to `GridSearchCV`:"
   ]
  },
  {
   "cell_type": "code",
   "execution_count": 19,
   "metadata": {},
   "outputs": [],
   "source": [
    "ftwo_scorer = make_scorer(fbeta_score, beta=2)"
   ]
  },
  {
   "cell_type": "markdown",
   "metadata": {},
   "source": [
    "### Max Depth"
   ]
  },
  {
   "cell_type": "code",
   "execution_count": 20,
   "metadata": {},
   "outputs": [],
   "source": [
    "gb_depth = GradientBoostingClassifier(random_state=42, n_iter_no_change=5, tol=.01)\n",
    "depth_grid = {\n",
    "    'max_depth': np.arange(1, 21, 1)\n",
    "}\n",
    "depth_search = GridSearchCV(estimator = gb_depth, param_grid = depth_grid, scoring=ftwo_scorer, cv = skf, verbose = 2, return_train_score=True)"
   ]
  },
  {
   "cell_type": "code",
   "execution_count": 21,
   "metadata": {},
   "outputs": [
    {
     "name": "stdout",
     "output_type": "stream",
     "text": [
      "Fitting 5 folds for each of 20 candidates, totalling 100 fits\n",
      "[CV] max_depth=1 .....................................................\n"
     ]
    },
    {
     "name": "stderr",
     "output_type": "stream",
     "text": [
      "[Parallel(n_jobs=1)]: Using backend SequentialBackend with 1 concurrent workers.\n"
     ]
    },
    {
     "name": "stdout",
     "output_type": "stream",
     "text": [
      "[CV] ...................................... max_depth=1, total=  15.4s\n",
      "[CV] max_depth=1 .....................................................\n"
     ]
    },
    {
     "name": "stderr",
     "output_type": "stream",
     "text": [
      "[Parallel(n_jobs=1)]: Done   1 out of   1 | elapsed:   15.7s remaining:    0.0s\n"
     ]
    },
    {
     "name": "stdout",
     "output_type": "stream",
     "text": [
      "[CV] ...................................... max_depth=1, total=  18.0s\n",
      "[CV] max_depth=1 .....................................................\n",
      "[CV] ...................................... max_depth=1, total=  17.3s\n",
      "[CV] max_depth=1 .....................................................\n",
      "[CV] ...................................... max_depth=1, total=  16.4s\n",
      "[CV] max_depth=1 .....................................................\n",
      "[CV] ...................................... max_depth=1, total=  14.1s\n",
      "[CV] max_depth=2 .....................................................\n",
      "[CV] ...................................... max_depth=2, total=  28.6s\n",
      "[CV] max_depth=2 .....................................................\n",
      "[CV] ...................................... max_depth=2, total=  35.4s\n",
      "[CV] max_depth=2 .....................................................\n",
      "[CV] ...................................... max_depth=2, total=  30.8s\n",
      "[CV] max_depth=2 .....................................................\n",
      "[CV] ...................................... max_depth=2, total=  32.3s\n",
      "[CV] max_depth=2 .....................................................\n",
      "[CV] ...................................... max_depth=2, total=  31.0s\n",
      "[CV] max_depth=3 .....................................................\n",
      "[CV] ...................................... max_depth=3, total=  48.3s\n",
      "[CV] max_depth=3 .....................................................\n",
      "[CV] ...................................... max_depth=3, total=  52.1s\n",
      "[CV] max_depth=3 .....................................................\n",
      "[CV] ...................................... max_depth=3, total=  47.4s\n",
      "[CV] max_depth=3 .....................................................\n",
      "[CV] ...................................... max_depth=3, total=  50.9s\n",
      "[CV] max_depth=3 .....................................................\n",
      "[CV] ...................................... max_depth=3, total=  43.3s\n",
      "[CV] max_depth=4 .....................................................\n",
      "[CV] ...................................... max_depth=4, total=  53.9s\n",
      "[CV] max_depth=4 .....................................................\n",
      "[CV] ...................................... max_depth=4, total=  59.6s\n",
      "[CV] max_depth=4 .....................................................\n",
      "[CV] ...................................... max_depth=4, total= 1.1min\n",
      "[CV] max_depth=4 .....................................................\n",
      "[CV] ...................................... max_depth=4, total= 1.0min\n",
      "[CV] max_depth=4 .....................................................\n",
      "[CV] ...................................... max_depth=4, total=  57.0s\n",
      "[CV] max_depth=5 .....................................................\n",
      "[CV] ...................................... max_depth=5, total= 1.1min\n",
      "[CV] max_depth=5 .....................................................\n",
      "[CV] ...................................... max_depth=5, total= 1.2min\n",
      "[CV] max_depth=5 .....................................................\n",
      "[CV] ...................................... max_depth=5, total= 1.1min\n",
      "[CV] max_depth=5 .....................................................\n",
      "[CV] ...................................... max_depth=5, total= 1.1min\n",
      "[CV] max_depth=5 .....................................................\n",
      "[CV] ...................................... max_depth=5, total= 1.1min\n",
      "[CV] max_depth=6 .....................................................\n",
      "[CV] ...................................... max_depth=6, total= 1.2min\n",
      "[CV] max_depth=6 .....................................................\n",
      "[CV] ...................................... max_depth=6, total= 1.3min\n",
      "[CV] max_depth=6 .....................................................\n",
      "[CV] ...................................... max_depth=6, total= 1.3min\n",
      "[CV] max_depth=6 .....................................................\n",
      "[CV] ...................................... max_depth=6, total= 1.2min\n",
      "[CV] max_depth=6 .....................................................\n",
      "[CV] ...................................... max_depth=6, total= 1.4min\n",
      "[CV] max_depth=7 .....................................................\n",
      "[CV] ...................................... max_depth=7, total= 1.5min\n",
      "[CV] max_depth=7 .....................................................\n",
      "[CV] ...................................... max_depth=7, total= 1.4min\n",
      "[CV] max_depth=7 .....................................................\n",
      "[CV] ...................................... max_depth=7, total= 1.3min\n",
      "[CV] max_depth=7 .....................................................\n",
      "[CV] ...................................... max_depth=7, total= 1.3min\n",
      "[CV] max_depth=7 .....................................................\n",
      "[CV] ...................................... max_depth=7, total= 1.4min\n",
      "[CV] max_depth=8 .....................................................\n",
      "[CV] ...................................... max_depth=8, total= 1.4min\n",
      "[CV] max_depth=8 .....................................................\n",
      "[CV] ...................................... max_depth=8, total= 1.2min\n",
      "[CV] max_depth=8 .....................................................\n",
      "[CV] ...................................... max_depth=8, total= 1.4min\n",
      "[CV] max_depth=8 .....................................................\n",
      "[CV] ...................................... max_depth=8, total= 1.4min\n",
      "[CV] max_depth=8 .....................................................\n",
      "[CV] ...................................... max_depth=8, total= 1.5min\n",
      "[CV] max_depth=9 .....................................................\n",
      "[CV] ...................................... max_depth=9, total= 1.6min\n",
      "[CV] max_depth=9 .....................................................\n",
      "[CV] ...................................... max_depth=9, total= 1.5min\n",
      "[CV] max_depth=9 .....................................................\n",
      "[CV] ...................................... max_depth=9, total= 1.5min\n",
      "[CV] max_depth=9 .....................................................\n",
      "[CV] ...................................... max_depth=9, total= 1.5min\n",
      "[CV] max_depth=9 .....................................................\n",
      "[CV] ...................................... max_depth=9, total= 1.4min\n",
      "[CV] max_depth=10 ....................................................\n",
      "[CV] ..................................... max_depth=10, total= 1.5min\n",
      "[CV] max_depth=10 ....................................................\n",
      "[CV] ..................................... max_depth=10, total= 1.6min\n",
      "[CV] max_depth=10 ....................................................\n",
      "[CV] ..................................... max_depth=10, total= 1.6min\n",
      "[CV] max_depth=10 ....................................................\n",
      "[CV] ..................................... max_depth=10, total= 1.5min\n",
      "[CV] max_depth=10 ....................................................\n",
      "[CV] ..................................... max_depth=10, total= 1.6min\n",
      "[CV] max_depth=11 ....................................................\n",
      "[CV] ..................................... max_depth=11, total= 1.6min\n",
      "[CV] max_depth=11 ....................................................\n",
      "[CV] ..................................... max_depth=11, total= 1.7min\n",
      "[CV] max_depth=11 ....................................................\n",
      "[CV] ..................................... max_depth=11, total= 1.6min\n",
      "[CV] max_depth=11 ....................................................\n",
      "[CV] ..................................... max_depth=11, total= 1.6min\n",
      "[CV] max_depth=11 ....................................................\n",
      "[CV] ..................................... max_depth=11, total= 1.9min\n",
      "[CV] max_depth=12 ....................................................\n",
      "[CV] ..................................... max_depth=12, total= 1.8min\n",
      "[CV] max_depth=12 ....................................................\n",
      "[CV] ..................................... max_depth=12, total= 1.8min\n",
      "[CV] max_depth=12 ....................................................\n",
      "[CV] ..................................... max_depth=12, total= 1.7min\n",
      "[CV] max_depth=12 ....................................................\n",
      "[CV] ..................................... max_depth=12, total= 1.8min\n",
      "[CV] max_depth=12 ....................................................\n"
     ]
    },
    {
     "name": "stdout",
     "output_type": "stream",
     "text": [
      "[CV] ..................................... max_depth=12, total= 1.8min\n",
      "[CV] max_depth=13 ....................................................\n",
      "[CV] ..................................... max_depth=13, total= 2.1min\n",
      "[CV] max_depth=13 ....................................................\n",
      "[CV] ..................................... max_depth=13, total= 2.0min\n",
      "[CV] max_depth=13 ....................................................\n",
      "[CV] ..................................... max_depth=13, total= 1.9min\n",
      "[CV] max_depth=13 ....................................................\n",
      "[CV] ..................................... max_depth=13, total= 1.9min\n",
      "[CV] max_depth=13 ....................................................\n",
      "[CV] ..................................... max_depth=13, total= 2.0min\n",
      "[CV] max_depth=14 ....................................................\n",
      "[CV] ..................................... max_depth=14, total= 2.2min\n",
      "[CV] max_depth=14 ....................................................\n",
      "[CV] ..................................... max_depth=14, total= 2.2min\n",
      "[CV] max_depth=14 ....................................................\n",
      "[CV] ..................................... max_depth=14, total= 2.3min\n",
      "[CV] max_depth=14 ....................................................\n",
      "[CV] ..................................... max_depth=14, total= 2.4min\n",
      "[CV] max_depth=14 ....................................................\n",
      "[CV] ..................................... max_depth=14, total= 2.3min\n",
      "[CV] max_depth=15 ....................................................\n",
      "[CV] ..................................... max_depth=15, total= 2.6min\n",
      "[CV] max_depth=15 ....................................................\n",
      "[CV] ..................................... max_depth=15, total= 2.9min\n",
      "[CV] max_depth=15 ....................................................\n",
      "[CV] ..................................... max_depth=15, total= 2.8min\n",
      "[CV] max_depth=15 ....................................................\n",
      "[CV] ..................................... max_depth=15, total= 2.8min\n",
      "[CV] max_depth=15 ....................................................\n",
      "[CV] ..................................... max_depth=15, total= 2.4min\n",
      "[CV] max_depth=16 ....................................................\n",
      "[CV] ..................................... max_depth=16, total= 2.7min\n",
      "[CV] max_depth=16 ....................................................\n",
      "[CV] ..................................... max_depth=16, total= 2.7min\n",
      "[CV] max_depth=16 ....................................................\n",
      "[CV] ..................................... max_depth=16, total= 3.0min\n",
      "[CV] max_depth=16 ....................................................\n",
      "[CV] ..................................... max_depth=16, total= 4.9min\n",
      "[CV] max_depth=16 ....................................................\n",
      "[CV] ..................................... max_depth=16, total= 3.4min\n",
      "[CV] max_depth=17 ....................................................\n",
      "[CV] ..................................... max_depth=17, total= 4.0min\n",
      "[CV] max_depth=17 ....................................................\n",
      "[CV] ..................................... max_depth=17, total= 4.2min\n",
      "[CV] max_depth=17 ....................................................\n",
      "[CV] ..................................... max_depth=17, total= 3.9min\n",
      "[CV] max_depth=17 ....................................................\n",
      "[CV] .................................... max_depth=17, total=135.2min\n",
      "[CV] max_depth=17 ....................................................\n",
      "[CV] .................................... max_depth=17, total=176.0min\n",
      "[CV] max_depth=18 ....................................................\n",
      "[CV] .................................... max_depth=18, total=141.3min\n",
      "[CV] max_depth=18 ....................................................\n",
      "[CV] .................................... max_depth=18, total=151.5min\n",
      "[CV] max_depth=18 ....................................................\n",
      "[CV] ..................................... max_depth=18, total= 3.8min\n",
      "[CV] max_depth=18 ....................................................\n",
      "[CV] ..................................... max_depth=18, total= 3.9min\n",
      "[CV] max_depth=18 ....................................................\n",
      "[CV] ..................................... max_depth=18, total= 4.3min\n",
      "[CV] max_depth=19 ....................................................\n",
      "[CV] ..................................... max_depth=19, total= 4.7min\n",
      "[CV] max_depth=19 ....................................................\n",
      "[CV] ..................................... max_depth=19, total= 5.2min\n",
      "[CV] max_depth=19 ....................................................\n",
      "[CV] ..................................... max_depth=19, total= 5.2min\n",
      "[CV] max_depth=19 ....................................................\n",
      "[CV] ..................................... max_depth=19, total= 4.7min\n",
      "[CV] max_depth=19 ....................................................\n",
      "[CV] ..................................... max_depth=19, total= 5.0min\n",
      "[CV] max_depth=20 ....................................................\n",
      "[CV] ..................................... max_depth=20, total= 4.9min\n",
      "[CV] max_depth=20 ....................................................\n",
      "[CV] ..................................... max_depth=20, total= 4.5min\n",
      "[CV] max_depth=20 ....................................................\n",
      "[CV] ..................................... max_depth=20, total= 4.6min\n",
      "[CV] max_depth=20 ....................................................\n",
      "[CV] ..................................... max_depth=20, total= 4.8min\n",
      "[CV] max_depth=20 ....................................................\n",
      "[CV] ..................................... max_depth=20, total= 4.7min\n"
     ]
    },
    {
     "name": "stderr",
     "output_type": "stream",
     "text": [
      "[Parallel(n_jobs=1)]: Done 100 out of 100 | elapsed: 801.8min finished\n"
     ]
    },
    {
     "data": {
      "text/plain": [
       "GridSearchCV(cv=StratifiedKFold(n_splits=5, random_state=42, shuffle=True),\n",
       "             estimator=GradientBoostingClassifier(n_iter_no_change=5,\n",
       "                                                  random_state=42, tol=0.01),\n",
       "             param_grid={'max_depth': array([ 1,  2,  3,  4,  5,  6,  7,  8,  9, 10, 11, 12, 13, 14, 15, 16, 17,\n",
       "       18, 19, 20])},\n",
       "             return_train_score=True, scoring=make_scorer(fbeta_score, beta=2),\n",
       "             verbose=2)"
      ]
     },
     "execution_count": 21,
     "metadata": {},
     "output_type": "execute_result"
    }
   ],
   "source": [
    "depth_search.fit(X_train, y_train)"
   ]
  },
  {
   "cell_type": "code",
   "execution_count": 22,
   "metadata": {},
   "outputs": [],
   "source": [
    "depth_train = depth_search.cv_results_['mean_train_score']\n",
    "depth_test = depth_search.cv_results_['mean_test_score']"
   ]
  },
  {
   "cell_type": "code",
   "execution_count": 23,
   "metadata": {},
   "outputs": [
    {
     "data": {
      "text/plain": [
       "<matplotlib.legend.Legend at 0x1445a1a90>"
      ]
     },
     "execution_count": 23,
     "metadata": {},
     "output_type": "execute_result"
    },
    {
     "data": {
      "image/png": "[encoded data removed]",
      "text/plain": [
       "<Figure size 1080x720 with 1 Axes>"
      ]
     },
     "metadata": {},
     "output_type": "display_data"
    }
   ],
   "source": [
    "plt.figure(figsize=(15,10))\n",
    "plt.plot(np.arange(1,21,1), depth_train, lw=1.5, label='Train')\n",
    "plt.plot(np.arange(1,21,1), depth_test, lw=1.5, label='Test')\n",
    "plt.xlabel('Depth')\n",
    "plt.ylabel('F2 Score')\n",
    "plt.legend()"
   ]
  },
  {
   "cell_type": "code",
   "execution_count": 24,
   "metadata": {},
   "outputs": [
    {
     "data": {
      "text/plain": [
       "{'max_depth': 10}"
      ]
     },
     "execution_count": 24,
     "metadata": {},
     "output_type": "execute_result"
    }
   ],
   "source": [
    "depth_search.best_params_"
   ]
  },
  {
   "cell_type": "markdown",
   "metadata": {},
   "source": [
    "After searching through `max_depth` values from 1 through 20, the cross-validation results above show that at a depth of around 6-7, the training and validation scores begin to diverge. From a depth of 9-10, training scores diverge even more and increase at a higher rate while the test scores plateau and then decline -- at depth 10, the validation score is highest, from this point the model overfits on the training data and isn't improving.\n",
    "\n",
    "We'll now proceed to tuning `max_features` using a `max_depth` of 10:"
   ]
  },
  {
   "cell_type": "markdown",
   "metadata": {},
   "source": [
    "### Max Features"
   ]
  },
  {
   "cell_type": "code",
   "execution_count": 25,
   "metadata": {},
   "outputs": [],
   "source": [
    "gb_feat = GradientBoostingClassifier(max_depth=10, random_state=42, n_iter_no_change=5, tol=.01)\n",
    "feat_grid = {\n",
    "    'max_features': np.arange(4, 16, 1)\n",
    "}\n",
    "feat_search = GridSearchCV(estimator = gb_feat, param_grid = feat_grid, scoring=ftwo_scorer, cv = skf, verbose = 2, return_train_score=True)"
   ]
  },
  {
   "cell_type": "code",
   "execution_count": 26,
   "metadata": {},
   "outputs": [
    {
     "name": "stdout",
     "output_type": "stream",
     "text": [
      "Fitting 5 folds for each of 12 candidates, totalling 60 fits\n",
      "[CV] max_features=4 ..................................................\n"
     ]
    },
    {
     "name": "stderr",
     "output_type": "stream",
     "text": [
      "[Parallel(n_jobs=1)]: Using backend SequentialBackend with 1 concurrent workers.\n"
     ]
    },
    {
     "name": "stdout",
     "output_type": "stream",
     "text": [
      "[CV] ................................... max_features=4, total=  43.4s\n",
      "[CV] max_features=4 ..................................................\n"
     ]
    },
    {
     "name": "stderr",
     "output_type": "stream",
     "text": [
      "[Parallel(n_jobs=1)]: Done   1 out of   1 | elapsed:   44.5s remaining:    0.0s\n"
     ]
    },
    {
     "name": "stdout",
     "output_type": "stream",
     "text": [
      "[CV] ................................... max_features=4, total=  42.6s\n",
      "[CV] max_features=4 ..................................................\n",
      "[CV] ................................... max_features=4, total=  43.2s\n",
      "[CV] max_features=4 ..................................................\n",
      "[CV] ................................... max_features=4, total=  40.5s\n",
      "[CV] max_features=4 ..................................................\n",
      "[CV] ................................... max_features=4, total=  39.2s\n",
      "[CV] max_features=5 ..................................................\n",
      "[CV] ................................... max_features=5, total=  43.9s\n",
      "[CV] max_features=5 ..................................................\n",
      "[CV] ................................... max_features=5, total=  48.2s\n",
      "[CV] max_features=5 ..................................................\n",
      "[CV] ................................... max_features=5, total=  42.5s\n",
      "[CV] max_features=5 ..................................................\n",
      "[CV] ................................... max_features=5, total=  51.2s\n",
      "[CV] max_features=5 ..................................................\n",
      "[CV] ................................... max_features=5, total=  51.7s\n",
      "[CV] max_features=6 ..................................................\n",
      "[CV] ................................... max_features=6, total= 1.1min\n",
      "[CV] max_features=6 ..................................................\n",
      "[CV] ................................... max_features=6, total=  54.0s\n",
      "[CV] max_features=6 ..................................................\n",
      "[CV] ................................... max_features=6, total=  52.7s\n",
      "[CV] max_features=6 ..................................................\n",
      "[CV] ................................... max_features=6, total=  53.0s\n",
      "[CV] max_features=6 ..................................................\n",
      "[CV] ................................... max_features=6, total=  49.7s\n",
      "[CV] max_features=7 ..................................................\n",
      "[CV] ................................... max_features=7, total=  48.3s\n",
      "[CV] max_features=7 ..................................................\n",
      "[CV] ................................... max_features=7, total= 1.0min\n",
      "[CV] max_features=7 ..................................................\n",
      "[CV] ................................... max_features=7, total=  56.8s\n",
      "[CV] max_features=7 ..................................................\n",
      "[CV] ................................... max_features=7, total=  55.7s\n",
      "[CV] max_features=7 ..................................................\n",
      "[CV] ................................... max_features=7, total=  49.4s\n",
      "[CV] max_features=8 ..................................................\n",
      "[CV] ................................... max_features=8, total=  55.0s\n",
      "[CV] max_features=8 ..................................................\n",
      "[CV] ................................... max_features=8, total= 1.2min\n",
      "[CV] max_features=8 ..................................................\n",
      "[CV] ................................... max_features=8, total= 1.1min\n",
      "[CV] max_features=8 ..................................................\n",
      "[CV] ................................... max_features=8, total= 1.0min\n",
      "[CV] max_features=8 ..................................................\n",
      "[CV] ................................... max_features=8, total=  60.0s\n",
      "[CV] max_features=9 ..................................................\n",
      "[CV] ................................... max_features=9, total= 1.0min\n",
      "[CV] max_features=9 ..................................................\n",
      "[CV] ................................... max_features=9, total= 1.2min\n",
      "[CV] max_features=9 ..................................................\n",
      "[CV] ................................... max_features=9, total= 1.2min\n",
      "[CV] max_features=9 ..................................................\n",
      "[CV] ................................... max_features=9, total= 1.2min\n",
      "[CV] max_features=9 ..................................................\n",
      "[CV] ................................... max_features=9, total=  59.9s\n",
      "[CV] max_features=10 .................................................\n",
      "[CV] .................................. max_features=10, total= 1.1min\n",
      "[CV] max_features=10 .................................................\n",
      "[CV] .................................. max_features=10, total= 1.1min\n",
      "[CV] max_features=10 .................................................\n",
      "[CV] .................................. max_features=10, total= 1.0min\n",
      "[CV] max_features=10 .................................................\n",
      "[CV] .................................. max_features=10, total= 1.1min\n",
      "[CV] max_features=10 .................................................\n",
      "[CV] .................................. max_features=10, total= 1.1min\n",
      "[CV] max_features=11 .................................................\n",
      "[CV] .................................. max_features=11, total= 1.1min\n",
      "[CV] max_features=11 .................................................\n",
      "[CV] .................................. max_features=11, total= 1.2min\n",
      "[CV] max_features=11 .................................................\n",
      "[CV] .................................. max_features=11, total= 1.1min\n",
      "[CV] max_features=11 .................................................\n",
      "[CV] .................................. max_features=11, total= 1.2min\n",
      "[CV] max_features=11 .................................................\n",
      "[CV] .................................. max_features=11, total= 1.4min\n",
      "[CV] max_features=12 .................................................\n",
      "[CV] .................................. max_features=12, total= 1.3min\n",
      "[CV] max_features=12 .................................................\n",
      "[CV] .................................. max_features=12, total= 1.4min\n",
      "[CV] max_features=12 .................................................\n",
      "[CV] .................................. max_features=12, total= 1.4min\n",
      "[CV] max_features=12 .................................................\n",
      "[CV] .................................. max_features=12, total= 1.5min\n",
      "[CV] max_features=12 .................................................\n",
      "[CV] .................................. max_features=12, total= 1.5min\n",
      "[CV] max_features=13 .................................................\n",
      "[CV] .................................. max_features=13, total= 1.4min\n",
      "[CV] max_features=13 .................................................\n",
      "[CV] .................................. max_features=13, total= 1.7min\n",
      "[CV] max_features=13 .................................................\n",
      "[CV] .................................. max_features=13, total= 1.3min\n",
      "[CV] max_features=13 .................................................\n",
      "[CV] .................................. max_features=13, total= 1.4min\n",
      "[CV] max_features=13 .................................................\n",
      "[CV] .................................. max_features=13, total= 1.5min\n",
      "[CV] max_features=14 .................................................\n",
      "[CV] .................................. max_features=14, total= 1.5min\n",
      "[CV] max_features=14 .................................................\n",
      "[CV] .................................. max_features=14, total= 1.6min\n",
      "[CV] max_features=14 .................................................\n",
      "[CV] .................................. max_features=14, total= 1.4min\n",
      "[CV] max_features=14 .................................................\n",
      "[CV] .................................. max_features=14, total= 1.5min\n",
      "[CV] max_features=14 .................................................\n",
      "[CV] .................................. max_features=14, total= 1.4min\n",
      "[CV] max_features=15 .................................................\n",
      "[CV] .................................. max_features=15, total= 1.5min\n",
      "[CV] max_features=15 .................................................\n",
      "[CV] .................................. max_features=15, total= 1.5min\n",
      "[CV] max_features=15 .................................................\n",
      "[CV] .................................. max_features=15, total= 1.5min\n",
      "[CV] max_features=15 .................................................\n",
      "[CV] .................................. max_features=15, total= 1.6min\n",
      "[CV] max_features=15 .................................................\n"
     ]
    },
    {
     "name": "stdout",
     "output_type": "stream",
     "text": [
      "[CV] .................................. max_features=15, total= 1.7min\n"
     ]
    },
    {
     "name": "stderr",
     "output_type": "stream",
     "text": [
      "[Parallel(n_jobs=1)]: Done  60 out of  60 | elapsed: 69.4min finished\n"
     ]
    },
    {
     "data": {
      "text/plain": [
       "GridSearchCV(cv=StratifiedKFold(n_splits=5, random_state=42, shuffle=True),\n",
       "             estimator=GradientBoostingClassifier(max_depth=10,\n",
       "                                                  n_iter_no_change=5,\n",
       "                                                  random_state=42, tol=0.01),\n",
       "             param_grid={'max_features': array([ 4,  5,  6,  7,  8,  9, 10, 11, 12, 13, 14, 15])},\n",
       "             return_train_score=True, scoring=make_scorer(fbeta_score, beta=2),\n",
       "             verbose=2)"
      ]
     },
     "execution_count": 26,
     "metadata": {},
     "output_type": "execute_result"
    }
   ],
   "source": [
    "feat_search.fit(X_train, y_train)"
   ]
  },
  {
   "cell_type": "code",
   "execution_count": 27,
   "metadata": {},
   "outputs": [],
   "source": [
    "feat_train = feat_search.cv_results_['mean_train_score']\n",
    "feat_test = feat_search.cv_results_['mean_test_score']"
   ]
  },
  {
   "cell_type": "code",
   "execution_count": 28,
   "metadata": {},
   "outputs": [
    {
     "data": {
      "text/plain": [
       "<matplotlib.legend.Legend at 0x14499ef98>"
      ]
     },
     "execution_count": 28,
     "metadata": {},
     "output_type": "execute_result"
    },
    {
     "data": {
      "image/png": "[encoded data removed]",
      "text/plain": [
       "<Figure size 1080x720 with 1 Axes>"
      ]
     },
     "metadata": {},
     "output_type": "display_data"
    }
   ],
   "source": [
    "plt.figure(figsize=(15,10))\n",
    "plt.plot(np.arange(4,16,1), feat_train, lw=1.5, label='Train')\n",
    "plt.plot(np.arange(4,16,1), feat_test, lw=1.5, label='Test')\n",
    "plt.xlabel('No. of Features')\n",
    "plt.ylabel('F2 Score')\n",
    "plt.legend()"
   ]
  },
  {
   "cell_type": "markdown",
   "metadata": {},
   "source": [
    "As with `max_depth`, though in less stark fashion, we see that our search over `max_features` values from 4 through 15 (the full number of features) also results in training scores improving at a different rate than validation scores before continuing to increase while validation scores plateau and decline. When `max_features` is at 6 features, the training scores begin to improve more rapidly, and at about 9 features, the validation scores stop improving as the model overfits more on the training data.\n",
    "\n",
    "We will end by tuning `n_estimators` with `max_depth` at 10 and `max_features` at 8 features:"
   ]
  },
  {
   "cell_type": "markdown",
   "metadata": {},
   "source": [
    "### Number of Trees"
   ]
  },
  {
   "cell_type": "code",
   "execution_count": 29,
   "metadata": {},
   "outputs": [],
   "source": [
    "gb_trees = GradientBoostingClassifier(max_depth=10, max_features=8, random_state=42, n_iter_no_change=5, tol=.01)\n",
    "trees_grid = {\n",
    "    'n_estimators': np.arange(20, 210, 10)\n",
    "}\n",
    "tree_search = GridSearchCV(estimator = gb_trees, param_grid = trees_grid, scoring=ftwo_scorer, cv = skf, verbose = 2, return_train_score=True)"
   ]
  },
  {
   "cell_type": "code",
   "execution_count": 30,
   "metadata": {},
   "outputs": [
    {
     "name": "stdout",
     "output_type": "stream",
     "text": [
      "Fitting 5 folds for each of 19 candidates, totalling 95 fits\n",
      "[CV] n_estimators=20 .................................................\n"
     ]
    },
    {
     "name": "stderr",
     "output_type": "stream",
     "text": [
      "[Parallel(n_jobs=1)]: Using backend SequentialBackend with 1 concurrent workers.\n"
     ]
    },
    {
     "name": "stdout",
     "output_type": "stream",
     "text": [
      "[CV] .................................. n_estimators=20, total=  37.8s\n",
      "[CV] n_estimators=20 .................................................\n"
     ]
    },
    {
     "name": "stderr",
     "output_type": "stream",
     "text": [
      "[Parallel(n_jobs=1)]: Done   1 out of   1 | elapsed:   38.6s remaining:    0.0s\n"
     ]
    },
    {
     "name": "stdout",
     "output_type": "stream",
     "text": [
      "[CV] .................................. n_estimators=20, total=  38.6s\n",
      "[CV] n_estimators=20 .................................................\n",
      "[CV] .................................. n_estimators=20, total=  37.8s\n",
      "[CV] n_estimators=20 .................................................\n",
      "[CV] .................................. n_estimators=20, total=  37.4s\n",
      "[CV] n_estimators=20 .................................................\n",
      "[CV] .................................. n_estimators=20, total=  36.0s\n",
      "[CV] n_estimators=30 .................................................\n",
      "[CV] .................................. n_estimators=30, total=  59.7s\n",
      "[CV] n_estimators=30 .................................................\n",
      "[CV] .................................. n_estimators=30, total=  57.6s\n",
      "[CV] n_estimators=30 .................................................\n",
      "[CV] .................................. n_estimators=30, total= 1.0min\n",
      "[CV] n_estimators=30 .................................................\n",
      "[CV] .................................. n_estimators=30, total= 1.1min\n",
      "[CV] n_estimators=30 .................................................\n",
      "[CV] .................................. n_estimators=30, total=  55.5s\n",
      "[CV] n_estimators=40 .................................................\n",
      "[CV] .................................. n_estimators=40, total=  57.6s\n",
      "[CV] n_estimators=40 .................................................\n",
      "[CV] .................................. n_estimators=40, total= 1.0min\n",
      "[CV] n_estimators=40 .................................................\n",
      "[CV] .................................. n_estimators=40, total= 1.2min\n",
      "[CV] n_estimators=40 .................................................\n",
      "[CV] .................................. n_estimators=40, total= 1.1min\n",
      "[CV] n_estimators=40 .................................................\n",
      "[CV] .................................. n_estimators=40, total= 1.1min\n",
      "[CV] n_estimators=50 .................................................\n",
      "[CV] .................................. n_estimators=50, total= 1.0min\n",
      "[CV] n_estimators=50 .................................................\n",
      "[CV] .................................. n_estimators=50, total=  59.6s\n",
      "[CV] n_estimators=50 .................................................\n",
      "[CV] .................................. n_estimators=50, total=  58.3s\n",
      "[CV] n_estimators=50 .................................................\n",
      "[CV] .................................. n_estimators=50, total=  59.5s\n",
      "[CV] n_estimators=50 .................................................\n",
      "[CV] .................................. n_estimators=50, total= 1.0min\n",
      "[CV] n_estimators=60 .................................................\n",
      "[CV] .................................. n_estimators=60, total= 1.0min\n",
      "[CV] n_estimators=60 .................................................\n",
      "[CV] .................................. n_estimators=60, total=  58.8s\n",
      "[CV] n_estimators=60 .................................................\n",
      "[CV] .................................. n_estimators=60, total=  58.2s\n",
      "[CV] n_estimators=60 .................................................\n",
      "[CV] .................................. n_estimators=60, total= 1.0min\n",
      "[CV] n_estimators=60 .................................................\n",
      "[CV] .................................. n_estimators=60, total= 1.0min\n",
      "[CV] n_estimators=70 .................................................\n",
      "[CV] .................................. n_estimators=70, total= 1.1min\n",
      "[CV] n_estimators=70 .................................................\n",
      "[CV] .................................. n_estimators=70, total= 1.0min\n",
      "[CV] n_estimators=70 .................................................\n",
      "[CV] .................................. n_estimators=70, total= 1.1min\n",
      "[CV] n_estimators=70 .................................................\n",
      "[CV] .................................. n_estimators=70, total= 1.1min\n",
      "[CV] n_estimators=70 .................................................\n",
      "[CV] .................................. n_estimators=70, total=  59.0s\n",
      "[CV] n_estimators=80 .................................................\n",
      "[CV] .................................. n_estimators=80, total=  58.5s\n",
      "[CV] n_estimators=80 .................................................\n",
      "[CV] .................................. n_estimators=80, total=  58.0s\n",
      "[CV] n_estimators=80 .................................................\n",
      "[CV] .................................. n_estimators=80, total=  58.9s\n",
      "[CV] n_estimators=80 .................................................\n",
      "[CV] .................................. n_estimators=80, total= 1.0min\n",
      "[CV] n_estimators=80 .................................................\n",
      "[CV] .................................. n_estimators=80, total= 1.0min\n",
      "[CV] n_estimators=90 .................................................\n",
      "[CV] .................................. n_estimators=90, total=  59.2s\n",
      "[CV] n_estimators=90 .................................................\n",
      "[CV] .................................. n_estimators=90, total= 1.0min\n",
      "[CV] n_estimators=90 .................................................\n",
      "[CV] .................................. n_estimators=90, total= 1.1min\n",
      "[CV] n_estimators=90 .................................................\n",
      "[CV] .................................. n_estimators=90, total= 1.0min\n",
      "[CV] n_estimators=90 .................................................\n",
      "[CV] .................................. n_estimators=90, total=  59.3s\n",
      "[CV] n_estimators=100 ................................................\n",
      "[CV] ................................. n_estimators=100, total= 1.1min\n",
      "[CV] n_estimators=100 ................................................\n",
      "[CV] ................................. n_estimators=100, total= 1.1min\n",
      "[CV] n_estimators=100 ................................................\n",
      "[CV] ................................. n_estimators=100, total=  59.9s\n",
      "[CV] n_estimators=100 ................................................\n",
      "[CV] ................................. n_estimators=100, total= 1.1min\n",
      "[CV] n_estimators=100 ................................................\n",
      "[CV] ................................. n_estimators=100, total= 1.0min\n",
      "[CV] n_estimators=110 ................................................\n",
      "[CV] ................................. n_estimators=110, total= 1.1min\n",
      "[CV] n_estimators=110 ................................................\n",
      "[CV] ................................. n_estimators=110, total= 1.2min\n",
      "[CV] n_estimators=110 ................................................\n",
      "[CV] ................................. n_estimators=110, total= 1.1min\n",
      "[CV] n_estimators=110 ................................................\n",
      "[CV] ................................. n_estimators=110, total= 1.1min\n",
      "[CV] n_estimators=110 ................................................\n",
      "[CV] ................................. n_estimators=110, total= 1.2min\n",
      "[CV] n_estimators=120 ................................................\n",
      "[CV] ................................. n_estimators=120, total=  58.7s\n",
      "[CV] n_estimators=120 ................................................\n",
      "[CV] ................................. n_estimators=120, total=  54.2s\n",
      "[CV] n_estimators=120 ................................................\n",
      "[CV] ................................. n_estimators=120, total=  54.9s\n",
      "[CV] n_estimators=120 ................................................\n",
      "[CV] ................................. n_estimators=120, total=  57.5s\n",
      "[CV] n_estimators=120 ................................................\n",
      "[CV] ................................. n_estimators=120, total=  56.1s\n",
      "[CV] n_estimators=130 ................................................\n",
      "[CV] ................................. n_estimators=130, total=  56.5s\n",
      "[CV] n_estimators=130 ................................................\n",
      "[CV] ................................. n_estimators=130, total=  56.3s\n",
      "[CV] n_estimators=130 ................................................\n",
      "[CV] ................................. n_estimators=130, total=  54.5s\n",
      "[CV] n_estimators=130 ................................................\n",
      "[CV] ................................. n_estimators=130, total=  57.9s\n",
      "[CV] n_estimators=130 ................................................\n"
     ]
    },
    {
     "name": "stdout",
     "output_type": "stream",
     "text": [
      "[CV] ................................. n_estimators=130, total=  55.9s\n",
      "[CV] n_estimators=140 ................................................\n",
      "[CV] ................................. n_estimators=140, total=  56.3s\n",
      "[CV] n_estimators=140 ................................................\n",
      "[CV] ................................. n_estimators=140, total=  56.0s\n",
      "[CV] n_estimators=140 ................................................\n",
      "[CV] ................................. n_estimators=140, total=  54.6s\n",
      "[CV] n_estimators=140 ................................................\n",
      "[CV] ................................. n_estimators=140, total=  57.4s\n",
      "[CV] n_estimators=140 ................................................\n",
      "[CV] ................................. n_estimators=140, total=  56.3s\n",
      "[CV] n_estimators=150 ................................................\n",
      "[CV] ................................. n_estimators=150, total=  56.2s\n",
      "[CV] n_estimators=150 ................................................\n",
      "[CV] ................................. n_estimators=150, total=  56.2s\n",
      "[CV] n_estimators=150 ................................................\n",
      "[CV] ................................. n_estimators=150, total=  54.5s\n",
      "[CV] n_estimators=150 ................................................\n",
      "[CV] ................................. n_estimators=150, total=  57.7s\n",
      "[CV] n_estimators=150 ................................................\n",
      "[CV] ................................. n_estimators=150, total=  55.8s\n",
      "[CV] n_estimators=160 ................................................\n",
      "[CV] ................................. n_estimators=160, total=  56.2s\n",
      "[CV] n_estimators=160 ................................................\n",
      "[CV] ................................. n_estimators=160, total=  55.8s\n",
      "[CV] n_estimators=160 ................................................\n",
      "[CV] ................................. n_estimators=160, total=  54.3s\n",
      "[CV] n_estimators=160 ................................................\n",
      "[CV] ................................. n_estimators=160, total=  57.7s\n",
      "[CV] n_estimators=160 ................................................\n",
      "[CV] ................................. n_estimators=160, total=  56.1s\n",
      "[CV] n_estimators=170 ................................................\n",
      "[CV] ................................. n_estimators=170, total= 1.0min\n",
      "[CV] n_estimators=170 ................................................\n",
      "[CV] ................................. n_estimators=170, total= 1.1min\n",
      "[CV] n_estimators=170 ................................................\n",
      "[CV] ................................. n_estimators=170, total=  58.4s\n",
      "[CV] n_estimators=170 ................................................\n",
      "[CV] ................................. n_estimators=170, total= 1.1min\n",
      "[CV] n_estimators=170 ................................................\n",
      "[CV] ................................. n_estimators=170, total= 1.0min\n",
      "[CV] n_estimators=180 ................................................\n",
      "[CV] ................................. n_estimators=180, total= 1.1min\n",
      "[CV] n_estimators=180 ................................................\n",
      "[CV] ................................. n_estimators=180, total= 1.1min\n",
      "[CV] n_estimators=180 ................................................\n",
      "[CV] ................................. n_estimators=180, total= 1.1min\n",
      "[CV] n_estimators=180 ................................................\n",
      "[CV] ................................. n_estimators=180, total= 1.0min\n",
      "[CV] n_estimators=180 ................................................\n",
      "[CV] ................................. n_estimators=180, total=  57.9s\n",
      "[CV] n_estimators=190 ................................................\n",
      "[CV] ................................. n_estimators=190, total= 1.1min\n",
      "[CV] n_estimators=190 ................................................\n",
      "[CV] ................................. n_estimators=190, total=  59.4s\n",
      "[CV] n_estimators=190 ................................................\n",
      "[CV] ................................. n_estimators=190, total= 1.0min\n",
      "[CV] n_estimators=190 ................................................\n",
      "[CV] ................................. n_estimators=190, total= 1.0min\n",
      "[CV] n_estimators=190 ................................................\n",
      "[CV] ................................. n_estimators=190, total=  58.0s\n",
      "[CV] n_estimators=200 ................................................\n",
      "[CV] ................................. n_estimators=200, total= 1.0min\n",
      "[CV] n_estimators=200 ................................................\n",
      "[CV] ................................. n_estimators=200, total= 1.3min\n",
      "[CV] n_estimators=200 ................................................\n",
      "[CV] ................................. n_estimators=200, total= 1.2min\n",
      "[CV] n_estimators=200 ................................................\n",
      "[CV] ................................. n_estimators=200, total= 1.1min\n",
      "[CV] n_estimators=200 ................................................\n",
      "[CV] ................................. n_estimators=200, total= 1.0min\n"
     ]
    },
    {
     "name": "stderr",
     "output_type": "stream",
     "text": [
      "[Parallel(n_jobs=1)]: Done  95 out of  95 | elapsed: 96.4min finished\n"
     ]
    },
    {
     "data": {
      "text/plain": [
       "GridSearchCV(cv=StratifiedKFold(n_splits=5, random_state=42, shuffle=True),\n",
       "             estimator=GradientBoostingClassifier(max_depth=10, max_features=8,\n",
       "                                                  n_iter_no_change=5,\n",
       "                                                  random_state=42, tol=0.01),\n",
       "             param_grid={'n_estimators': array([ 20,  30,  40,  50,  60,  70,  80,  90, 100, 110, 120, 130, 140,\n",
       "       150, 160, 170, 180, 190, 200])},\n",
       "             return_train_score=True, scoring=make_scorer(fbeta_score, beta=2),\n",
       "             verbose=2)"
      ]
     },
     "execution_count": 30,
     "metadata": {},
     "output_type": "execute_result"
    }
   ],
   "source": [
    "tree_search.fit(X_train, y_train)"
   ]
  },
  {
   "cell_type": "code",
   "execution_count": 31,
   "metadata": {},
   "outputs": [],
   "source": [
    "trees_train = tree_search.cv_results_['mean_train_score']\n",
    "trees_test = tree_search.cv_results_['mean_test_score']"
   ]
  },
  {
   "cell_type": "code",
   "execution_count": 32,
   "metadata": {},
   "outputs": [
    {
     "data": {
      "text/plain": [
       "array([0.7312938 , 0.74300005, 0.74449612, 0.74449612, 0.74449612,\n",
       "       0.74449612, 0.74449612, 0.74449612, 0.74449612, 0.74449612,\n",
       "       0.74449612, 0.74449612, 0.74449612, 0.74449612, 0.74449612,\n",
       "       0.74449612, 0.74449612, 0.74449612, 0.74449612])"
      ]
     },
     "execution_count": 32,
     "metadata": {},
     "output_type": "execute_result"
    }
   ],
   "source": [
    "trees_test"
   ]
  },
  {
   "cell_type": "code",
   "execution_count": 34,
   "metadata": {},
   "outputs": [
    {
     "data": {
      "text/plain": [
       "<matplotlib.legend.Legend at 0x145234f98>"
      ]
     },
     "execution_count": 34,
     "metadata": {},
     "output_type": "execute_result"
    },
    {
     "data": {
      "image/png": "[encoded data removed]",
      "text/plain": [
       "<Figure size 1080x720 with 1 Axes>"
      ]
     },
     "metadata": {},
     "output_type": "display_data"
    }
   ],
   "source": [
    "plt.figure(figsize=(15, 10))\n",
    "plt.plot(np.arange(20, 210, 10), trees_train, lw=1.5, label='Train')\n",
    "plt.plot(np.arange(20, 210, 10), trees_test, lw=1.5, label='Test')\n",
    "plt.xlabel('No. of Trees')\n",
    "plt.ylabel('F2 Score')\n",
    "plt.legend()"
   ]
  },
  {
   "cell_type": "markdown",
   "metadata": {},
   "source": [
    "Our search over values of `n_estimators` from 20 to 200 (in increments of 10) find that both train and validation scores basically level off and do not improve beyond 40 estimators.\n",
    "\n",
    "Finally, let's tune `learning_rate` with `max_depth = 10`, `max_features=8` and `n_estimators=40`."
   ]
  },
  {
   "cell_type": "code",
   "execution_count": 36,
   "metadata": {},
   "outputs": [],
   "source": [
    "gb_learn = GradientBoostingClassifier(max_depth=10, max_features=8, n_estimators=40, random_state=42, n_iter_no_change=5, tol=.01)\n",
    "learn_grid = {\n",
    "    'learning_rate': [.01, .05, .1, .15, .2, .3, .4, .5, .75, 1]\n",
    "}\n",
    "learn_search = GridSearchCV(estimator = gb_learn, param_grid = learn_grid, scoring=ftwo_scorer, cv = skf, verbose = 2, return_train_score=True)"
   ]
  },
  {
   "cell_type": "code",
   "execution_count": 37,
   "metadata": {},
   "outputs": [
    {
     "name": "stdout",
     "output_type": "stream",
     "text": [
      "Fitting 5 folds for each of 10 candidates, totalling 50 fits\n",
      "[CV] learning_rate=0.01 ..............................................\n"
     ]
    },
    {
     "name": "stderr",
     "output_type": "stream",
     "text": [
      "[Parallel(n_jobs=1)]: Using backend SequentialBackend with 1 concurrent workers.\n"
     ]
    },
    {
     "name": "stdout",
     "output_type": "stream",
     "text": [
      "[CV] ............................... learning_rate=0.01, total= 1.4min\n",
      "[CV] learning_rate=0.01 ..............................................\n"
     ]
    },
    {
     "name": "stderr",
     "output_type": "stream",
     "text": [
      "[Parallel(n_jobs=1)]: Done   1 out of   1 | elapsed:  1.4min remaining:    0.0s\n"
     ]
    },
    {
     "name": "stdout",
     "output_type": "stream",
     "text": [
      "[CV] ............................... learning_rate=0.01, total= 1.4min\n",
      "[CV] learning_rate=0.01 ..............................................\n",
      "[CV] ............................... learning_rate=0.01, total= 1.2min\n",
      "[CV] learning_rate=0.01 ..............................................\n",
      "[CV] ............................... learning_rate=0.01, total= 1.2min\n",
      "[CV] learning_rate=0.01 ..............................................\n",
      "[CV] ............................... learning_rate=0.01, total= 1.2min\n",
      "[CV] learning_rate=0.05 ..............................................\n",
      "[CV] ............................... learning_rate=0.05, total= 1.3min\n",
      "[CV] learning_rate=0.05 ..............................................\n",
      "[CV] ............................... learning_rate=0.05, total= 1.2min\n",
      "[CV] learning_rate=0.05 ..............................................\n",
      "[CV] ............................... learning_rate=0.05, total= 1.3min\n",
      "[CV] learning_rate=0.05 ..............................................\n",
      "[CV] ............................... learning_rate=0.05, total= 1.4min\n",
      "[CV] learning_rate=0.05 ..............................................\n",
      "[CV] ............................... learning_rate=0.05, total= 1.3min\n",
      "[CV] learning_rate=0.1 ...............................................\n",
      "[CV] ................................ learning_rate=0.1, total= 1.2min\n",
      "[CV] learning_rate=0.1 ...............................................\n",
      "[CV] ................................ learning_rate=0.1, total= 1.2min\n",
      "[CV] learning_rate=0.1 ...............................................\n",
      "[CV] ................................ learning_rate=0.1, total= 1.1min\n",
      "[CV] learning_rate=0.1 ...............................................\n",
      "[CV] ................................ learning_rate=0.1, total= 1.2min\n",
      "[CV] learning_rate=0.1 ...............................................\n",
      "[CV] ................................ learning_rate=0.1, total= 1.1min\n",
      "[CV] learning_rate=0.15 ..............................................\n",
      "[CV] ............................... learning_rate=0.15, total=  48.7s\n",
      "[CV] learning_rate=0.15 ..............................................\n",
      "[CV] ............................... learning_rate=0.15, total=  48.1s\n",
      "[CV] learning_rate=0.15 ..............................................\n",
      "[CV] ............................... learning_rate=0.15, total=  46.2s\n",
      "[CV] learning_rate=0.15 ..............................................\n",
      "[CV] ............................... learning_rate=0.15, total=  53.6s\n",
      "[CV] learning_rate=0.15 ..............................................\n",
      "[CV] ............................... learning_rate=0.15, total=  44.9s\n",
      "[CV] learning_rate=0.2 ...............................................\n",
      "[CV] ................................ learning_rate=0.2, total=  42.2s\n",
      "[CV] learning_rate=0.2 ...............................................\n",
      "[CV] ................................ learning_rate=0.2, total=  43.3s\n",
      "[CV] learning_rate=0.2 ...............................................\n",
      "[CV] ................................ learning_rate=0.2, total=  34.3s\n",
      "[CV] learning_rate=0.2 ...............................................\n",
      "[CV] ................................ learning_rate=0.2, total=  38.5s\n",
      "[CV] learning_rate=0.2 ...............................................\n",
      "[CV] ................................ learning_rate=0.2, total=  39.1s\n",
      "[CV] learning_rate=0.3 ...............................................\n",
      "[CV] ................................ learning_rate=0.3, total=  29.5s\n",
      "[CV] learning_rate=0.3 ...............................................\n",
      "[CV] ................................ learning_rate=0.3, total=  39.4s\n",
      "[CV] learning_rate=0.3 ...............................................\n",
      "[CV] ................................ learning_rate=0.3, total=  32.6s\n",
      "[CV] learning_rate=0.3 ...............................................\n",
      "[CV] ................................ learning_rate=0.3, total=  32.4s\n",
      "[CV] learning_rate=0.3 ...............................................\n",
      "[CV] ................................ learning_rate=0.3, total=  30.5s\n",
      "[CV] learning_rate=0.4 ...............................................\n",
      "[CV] ................................ learning_rate=0.4, total=  25.2s\n",
      "[CV] learning_rate=0.4 ...............................................\n",
      "[CV] ................................ learning_rate=0.4, total=  28.4s\n",
      "[CV] learning_rate=0.4 ...............................................\n",
      "[CV] ................................ learning_rate=0.4, total=  26.6s\n",
      "[CV] learning_rate=0.4 ...............................................\n",
      "[CV] ................................ learning_rate=0.4, total=  26.2s\n",
      "[CV] learning_rate=0.4 ...............................................\n",
      "[CV] ................................ learning_rate=0.4, total=  28.4s\n",
      "[CV] learning_rate=0.5 ...............................................\n",
      "[CV] ................................ learning_rate=0.5, total=  25.1s\n",
      "[CV] learning_rate=0.5 ...............................................\n",
      "[CV] ................................ learning_rate=0.5, total=  21.5s\n",
      "[CV] learning_rate=0.5 ...............................................\n",
      "[CV] ................................ learning_rate=0.5, total=  21.1s\n",
      "[CV] learning_rate=0.5 ...............................................\n",
      "[CV] ................................ learning_rate=0.5, total=  20.3s\n",
      "[CV] learning_rate=0.5 ...............................................\n",
      "[CV] ................................ learning_rate=0.5, total=  19.1s\n",
      "[CV] learning_rate=0.75 ..............................................\n",
      "[CV] ............................... learning_rate=0.75, total=  15.7s\n",
      "[CV] learning_rate=0.75 ..............................................\n",
      "[CV] ............................... learning_rate=0.75, total=  15.7s\n",
      "[CV] learning_rate=0.75 ..............................................\n",
      "[CV] ............................... learning_rate=0.75, total=  15.7s\n",
      "[CV] learning_rate=0.75 ..............................................\n",
      "[CV] ............................... learning_rate=0.75, total=  15.6s\n",
      "[CV] learning_rate=0.75 ..............................................\n",
      "[CV] ............................... learning_rate=0.75, total=  13.7s\n",
      "[CV] learning_rate=1 .................................................\n",
      "[CV] .................................. learning_rate=1, total=  12.4s\n",
      "[CV] learning_rate=1 .................................................\n",
      "[CV] .................................. learning_rate=1, total=  13.0s\n",
      "[CV] learning_rate=1 .................................................\n",
      "[CV] .................................. learning_rate=1, total=  14.5s\n",
      "[CV] learning_rate=1 .................................................\n",
      "[CV] .................................. learning_rate=1, total=  15.7s\n",
      "[CV] learning_rate=1 .................................................\n",
      "[CV] .................................. learning_rate=1, total=  15.5s\n"
     ]
    },
    {
     "name": "stderr",
     "output_type": "stream",
     "text": [
      "[Parallel(n_jobs=1)]: Done  50 out of  50 | elapsed: 36.0min finished\n"
     ]
    },
    {
     "data": {
      "text/plain": [
       "GridSearchCV(cv=StratifiedKFold(n_splits=5, random_state=42, shuffle=True),\n",
       "             estimator=GradientBoostingClassifier(max_depth=10, max_features=8,\n",
       "                                                  n_estimators=40,\n",
       "                                                  n_iter_no_change=5,\n",
       "                                                  random_state=42, tol=0.01),\n",
       "             param_grid={'learning_rate': [0.01, 0.05, 0.1, 0.15, 0.2, 0.3, 0.4,\n",
       "                                           0.5, 0.75, 1]},\n",
       "             return_train_score=True, scoring=make_scorer(fbeta_score, beta=2),\n",
       "             verbose=2)"
      ]
     },
     "execution_count": 37,
     "metadata": {},
     "output_type": "execute_result"
    }
   ],
   "source": [
    "learn_search.fit(X_train, y_train)"
   ]
  },
  {
   "cell_type": "code",
   "execution_count": 40,
   "metadata": {},
   "outputs": [],
   "source": [
    "learn_train = learn_search.cv_results_['mean_train_score']\n",
    "learn_test = learn_search.cv_results_['mean_test_score']"
   ]
  },
  {
   "cell_type": "code",
   "execution_count": 41,
   "metadata": {},
   "outputs": [
    {
     "data": {
      "text/plain": [
       "<matplotlib.legend.Legend at 0x144da6198>"
      ]
     },
     "execution_count": 41,
     "metadata": {},
     "output_type": "execute_result"
    },
    {
     "data": {
      "image/png": "[encoded data removed]",
      "text/plain": [
       "<Figure size 1080x720 with 1 Axes>"
      ]
     },
     "metadata": {},
     "output_type": "display_data"
    }
   ],
   "source": [
    "plt.figure(figsize=(15, 10))\n",
    "plt.plot([.01, .05, .1, .15, .2, .3, .4, .5, .75, 1], learn_train, lw=1.5, label='Train')\n",
    "plt.plot([.01, .05, .1, .15, .2, .3, .4, .5, .75, 1], learn_test, lw=1.5, label='Test')\n",
    "plt.xlabel('Learning Rate')\n",
    "plt.ylabel('F2 Score')\n",
    "plt.legend()"
   ]
  },
  {
   "cell_type": "code",
   "execution_count": 42,
   "metadata": {},
   "outputs": [
    {
     "data": {
      "text/plain": [
       "{'learning_rate': 0.15}"
      ]
     },
     "execution_count": 42,
     "metadata": {},
     "output_type": "execute_result"
    }
   ],
   "source": [
    "learn_search.best_params_"
   ]
  },
  {
   "cell_type": "markdown",
   "metadata": {},
   "source": [
    "The `learning_rate` search shows that our validation scores peak at a value of 0.15 after which the model will marginally overfit on the training data."
   ]
  },
  {
   "cell_type": "markdown",
   "metadata": {},
   "source": [
    "Our final `GradientBoostingClassifier` model will thus use:\n",
    "\n",
    "* `n_estimators = 40`\n",
    "* `max_depth = 10`\n",
    "* `max_features = 8`\n",
    "* `learning_rate = 0.15`\n",
    "\n",
    "In the next notebook, we'll fit this model on the entirety of the training data, look at feature importances of this fit, and then evaluate it on the test data. Using the model's predictions on the test data, we'll then try to make some sense of the correct and incorrect predictions and what that means for this and future modeling efforts."
   ]
  }
 ],
 "metadata": {
  "kernelspec": {
   "display_name": "Python 3",
   "language": "python",
   "name": "python3"
  },
  "language_info": {
   "codemirror_mode": {
    "name": "ipython",
    "version": 3
   },
   "file_extension": ".py",
   "mimetype": "text/x-python",
   "name": "python",
   "nbconvert_exporter": "python",
   "pygments_lexer": "ipython3",
   "version": "3.6.4"
  }
 },
 "nbformat": 4,
 "nbformat_minor": 2
}
